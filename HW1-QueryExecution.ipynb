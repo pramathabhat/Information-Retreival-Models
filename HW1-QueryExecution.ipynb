{
 "cells": [
  {
   "cell_type": "markdown",
   "id": "e22bfe28",
   "metadata": {},
   "source": [
    "# Task 3 : Query execution"
   ]
  },
  {
   "cell_type": "code",
   "execution_count": 1,
   "id": "b0b61999",
   "metadata": {},
   "outputs": [
    {
     "name": "stdout",
     "output_type": "stream",
     "text": [
      "True\n"
     ]
    }
   ],
   "source": [
    "from elasticsearch7 import Elasticsearch, helpers\n",
    "from elasticsearch7.client import IndicesClient\n",
    "import json\n",
    "from nltk.stem import PorterStemmer\n",
    "import string\n",
    "import math\n",
    "from collections import defaultdict\n",
    "\n",
    "index_name = \"ap89_data4\"\n",
    "es = Elasticsearch(\"http://localhost:9200\")\n",
    "ic = IndicesClient(es)\n",
    "ps = PorterStemmer()\n",
    "\n",
    "print(es.ping())"
   ]
  },
  {
   "cell_type": "code",
   "execution_count": 2,
   "id": "2f525a14",
   "metadata": {},
   "outputs": [],
   "source": [
    "def stem_text(text, ps):\n",
    "    stemmed = ' '.join([ps.stem(word) for word in text.split()])\n",
    "    return stemmed"
   ]
  },
  {
   "cell_type": "code",
   "execution_count": 3,
   "id": "8b031caa",
   "metadata": {},
   "outputs": [],
   "source": [
    "sw_path = \"./IR_data/AP_DATA/stoplist.txt\"\n",
    "\n",
    "with open(sw_path) as file:\n",
    "    stopwords = file.read().splitlines()\n",
    "\n",
    "additional_stopwords = [\n",
    "    \"document\", \"discuss\", \"system\", \"identifi\", \"actual\", \"ongo\", \"ha\", \"ani\", \"describ\",\n",
    "    \"motiv\", \"directli\",\"successful\", \"detat\", \"area\", \"result\", \"type\", \"anticip\",\"develop\",\n",
    "    \"make\", \"tent\", \"financi\", \"specifi\", \"advanc\", \"someth\", \"standard\", \"fatal\",\n",
    "    \"perpetr\", \"unsubstanti\", \"organ\", \"platform\", \"aid\", \"senior\", \"basi\", \"side\", \n",
    "    \"countri\", \"undesir\", \"good\", \"instanc\", \"method\", \"bell\", \"role\", \"exist\",\n",
    "    \"effort\", \"support\", \"machin\", \"controversi\", \"forc\", \"applic\",\n",
    "    \"determin\", \"second\", \"preliminari\", \"perform\", \"high\", \"tech\", \"predict\", \"insul\", \"instal\", \"regul\", \"level\",\n",
    "    \"country\", \"dual-us\", \"militari\", \"alleg\", \"polit\", \"candid\", \"reserv\", \"contract\", \"fail\", \"state\", \n",
    "    \"concern\", \"manufactur\", \"current\", \"product\", \"equip\", \"non\", \"take\", \"fine\"\n",
    "]\n",
    "\n"
   ]
  },
  {
   "cell_type": "code",
   "execution_count": 4,
   "id": "c11adba6",
   "metadata": {},
   "outputs": [],
   "source": [
    "def process_content(text):\n",
    "    text = text.translate(str.maketrans(\"\", \"\", \",.()'\\\"\"))\n",
    "    text = text.replace(\"-\", \" \")\n",
    "    words = text.split()\n",
    "    processed_words = []\n",
    "    for word in words:\n",
    "        processed_words.append(word.lower() if word.lower() not in stopwords else '')\n",
    "    processed_text = ' '.join(processed_words)\n",
    "    return processed_text\n"
   ]
  },
  {
   "cell_type": "code",
   "execution_count": 5,
   "id": "86487812",
   "metadata": {},
   "outputs": [],
   "source": [
    "def remove_additional_stopwords(text):\n",
    "    text = ' '.join([word.lower() for word in text.split() if word.lower() not in additional_stopwords])\n",
    "    return text"
   ]
  },
  {
   "cell_type": "code",
   "execution_count": 6,
   "id": "e5a4eca9",
   "metadata": {},
   "outputs": [],
   "source": [
    "def query_preprocessing(query):\n",
    "    query = process_content(query)\n",
    "    query = stem_text(query, ps)\n",
    "    query = remove_additional_stopwords(query)\n",
    "    return query"
   ]
  },
  {
   "cell_type": "code",
   "execution_count": 7,
   "id": "d6fa01b3",
   "metadata": {},
   "outputs": [],
   "source": [
    "def ES_Search(query):\n",
    "    res_es_search = es.search(index = index_name, query = {'match':{'content':query}}, size=1000)\n",
    "    return res_es_search"
   ]
  },
  {
   "cell_type": "code",
   "execution_count": 8,
   "id": "d061a465",
   "metadata": {},
   "outputs": [],
   "source": [
    "def process_res(query_num, res_es_search, output):\n",
    "    for rank, hit in enumerate(res_es_search['hits']['hits'], start=1):\n",
    "        docno = hit['_id']\n",
    "        score = hit['_score']\n",
    "        output_one_line = str(query_num) + ' Q0 ' + str(docno) + ' ' + str(rank) + ' ' + str(score) + ' Exp'+\"\\n\"\n",
    "        output.write(output_one_line)"
   ]
  },
  {
   "cell_type": "code",
   "execution_count": 87,
   "id": "3c68e1de",
   "metadata": {},
   "outputs": [
    {
     "name": "stdout",
     "output_type": "stream",
     "text": [
      "{85: 'corrupt public offici', 59: 'weather least locat', 56: 'prime lend rate prime rate', 71: 'incurs border guerrilla', 64: 'hostag', 62: 'coup attempt', 93: 'nation rifl associ nra', 99: 'iran contra affair', 58: 'rail strike rail strike', 77: 'poach wildlif', 54: 'agreement launch commerci satellit', 87: 'offic institut', 94: 'crime comput', 100: 'communist transfer technolog nation', 89: 'invest opec downstream', 61: 'israel iran contra affair', 95: 'comput crime', 68: 'safeti worker diamet fiber', 57: 'mci', 97: 'fiber optic technolog', 98: 'fiber optic', 60: 'salari incent pay pay', 80: '1988 presidenti', 63: 'translat', 91: 'weapon'}\n"
     ]
    }
   ],
   "source": [
    "query_dict = {}\n",
    "query_file_path = \"./IR_data/AP_DATA/query_desc.51-100.short.txt\"\n",
    "\n",
    "with open(query_file_path, 'r') as query_desc_file:\n",
    "    queries = query_desc_file.readlines()\n",
    "\n",
    "for query_desc in queries:\n",
    "    query_desc = query_desc.strip()\n",
    "\n",
    "    if not query_desc:\n",
    "        continue\n",
    "\n",
    "    query_num, query_text = query_desc.split('.', 1)\n",
    "    query_num = int(query_num.strip())\n",
    "    query_text = query_preprocessing(query_text.strip())\n",
    "\n",
    "    query_dict[query_num] = query_text\n",
    "\n",
    "print(query_dict)"
   ]
  },
  {
   "cell_type": "markdown",
   "id": "d04fae28",
   "metadata": {},
   "source": [
    "# ES built-in"
   ]
  },
  {
   "cell_type": "code",
   "execution_count": 10,
   "id": "4778535c",
   "metadata": {},
   "outputs": [],
   "source": [
    "def run_queries_and_write_results_esbuiltin(output_file, query_dict):\n",
    "    with open(output_file, 'w') as output:\n",
    "        for query_num, query_text in query_dict.items():\n",
    "            print(query_num)\n",
    "            print(query_text)\n",
    "            res_es_search = ES_Search(query_text)\n",
    "\n",
    "            process_res(query_num, res_es_search, output)"
   ]
  },
  {
   "cell_type": "code",
   "execution_count": 11,
   "id": "b387e15b",
   "metadata": {
    "scrolled": true
   },
   "outputs": [
    {
     "name": "stdout",
     "output_type": "stream",
     "text": [
      "85\n",
      "corrupt public offici\n",
      "59\n",
      "weather least locat\n",
      "56\n",
      "prime lend rate prime rate\n",
      "71\n",
      "incurs border guerrilla\n",
      "64\n",
      "hostag\n",
      "62\n",
      "coup attempt\n",
      "93\n",
      "nation rifl associ nra\n",
      "99\n",
      "iran contra affair\n",
      "58\n",
      "rail strike rail strike\n",
      "77\n",
      "poach wildlif\n",
      "54\n",
      "agreement launch commerci satellit\n",
      "87\n",
      "offic institut\n",
      "94\n",
      "crime comput\n",
      "100\n",
      "communist transfer technolog nation\n",
      "89\n",
      "invest opec downstream\n",
      "61\n",
      "israel iran contra affair\n",
      "95\n",
      "comput crime\n",
      "68\n",
      "safeti worker diamet fiber\n",
      "57\n",
      "mci\n",
      "97\n",
      "fiber optic technolog\n",
      "98\n",
      "fiber optic\n",
      "60\n",
      "salari incent pay pay\n",
      "80\n",
      "1988 presidenti\n",
      "63\n",
      "translat\n",
      "91\n",
      "weapon\n",
      "Queries executed successfully.\n"
     ]
    }
   ],
   "source": [
    "run_queries_and_write_results_esbuiltin(\"./Deliverables/output_ES_builtin.txt\", query_dict)\n",
    "\n",
    "print(\"Queries executed successfully.\")"
   ]
  },
  {
   "cell_type": "code",
   "execution_count": null,
   "id": "ab5332ee",
   "metadata": {},
   "outputs": [],
   "source": []
  },
  {
   "cell_type": "code",
   "execution_count": 12,
   "id": "a5c6dc99",
   "metadata": {},
   "outputs": [
    {
     "name": "stderr",
     "output_type": "stream",
     "text": [
      "C:\\Users\\Pramatha\\anaconda3\\Lib\\site-packages\\elasticsearch7\\connection\\base.py:200: ElasticsearchWarning: [types removal] Specifying types in search requests is deprecated.\n",
      "  warnings.warn(message, category=ElasticsearchWarning)\n"
     ]
    },
    {
     "name": "stdout",
     "output_type": "stream",
     "text": [
      "doc_id done\n",
      "AP890102-0055\n",
      "{'360': {'doc_freq': 243, 'ttf': 251, 'term_freq': 1, 'tokens': [{'position': 45, 'start_offset': 262, 'end_offset': 265}]}, 'accept': {'doc_freq': 6679, 'ttf': 8467, 'term_freq': 1, 'tokens': [{'position': 90, 'start_offset': 510, 'end_offset': 516}]}, 'albert': {'doc_freq': 739, 'ttf': 831, 'term_freq': 1, 'tokens': [{'position': 1, 'start_offset': 5, 'end_offset': 11}]}, 'ani': {'doc_freq': 21331, 'ttf': 29945, 'term_freq': 1, 'tokens': [{'position': 91, 'start_offset': 517, 'end_offset': 520}]}, 'away': {'doc_freq': 8704, 'ttf': 10392, 'term_freq': 1, 'tokens': [{'position': 66, 'start_offset': 370, 'end_offset': 374}]}, 'bank': {'doc_freq': 8193, 'ttf': 21865, 'term_freq': 1, 'tokens': [{'position': 88, 'start_offset': 494, 'end_offset': 498}]}, 'befor': {'doc_freq': 25059, 'ttf': 34200, 'term_freq': 1, 'tokens': [{'position': 38, 'start_offset': 220, 'end_offset': 225}]}, 'box': {'doc_freq': 1585, 'ttf': 2241, 'term_freq': 1, 'tokens': [{'position': 52, 'start_offset': 298, 'end_offset': 301}]}, 'bread': {'doc_freq': 449, 'ttf': 596, 'term_freq': 1, 'tokens': [{'position': 79, 'start_offset': 445, 'end_offset': 450}]}, 'burn': {'doc_freq': 2857, 'ttf': 4466, 'term_freq': 2, 'tokens': [{'position': 29, 'start_offset': 174, 'end_offset': 178}, {'position': 50, 'start_offset': 286, 'end_offset': 290}]}, 'busi': {'doc_freq': 11099, 'ttf': 16494, 'term_freq': 1, 'tokens': [{'position': 68, 'start_offset': 384, 'end_offset': 388}]}, 'career': {'doc_freq': 2380, 'ttf': 3075, 'term_freq': 1, 'tokens': [{'position': 7, 'start_offset': 40, 'end_offset': 46}]}, 'chef': {'doc_freq': 135, 'ttf': 246, 'term_freq': 1, 'tokens': [{'position': 0, 'start_offset': 0, 'end_offset': 4}]}, 'cinder': {'doc_freq': 23, 'ttf': 26, 'term_freq': 1, 'tokens': [{'position': 51, 'start_offset': 291, 'end_offset': 297}]}, 'coin': {'doc_freq': 222, 'ttf': 426, 'term_freq': 1, 'tokens': [{'position': 54, 'start_offset': 307, 'end_offset': 311}]}, 'collect': {'doc_freq': 3429, 'ttf': 4559, 'term_freq': 1, 'tokens': [{'position': 19, 'start_offset': 112, 'end_offset': 119}]}, 'cook': {'doc_freq': 1054, 'ttf': 1674, 'term_freq': 2, 'tokens': [{'position': 3, 'start_offset': 20, 'end_offset': 24}, {'position': 26, 'start_offset': 157, 'end_offset': 161}]}, 'crisp': {'doc_freq': 100, 'ttf': 108, 'term_freq': 1, 'tokens': [{'position': 78, 'start_offset': 439, 'end_offset': 444}]}, 'customers': {'doc_freq': 862, 'ttf': 1007, 'term_freq': 1, 'tokens': [{'position': 75, 'start_offset': 419, 'end_offset': 428}]}, 'dish': {'doc_freq': 259, 'ttf': 351, 'term_freq': 1, 'tokens': [{'position': 5, 'start_offset': 32, 'end_offset': 36}]}, 'done': {'doc_freq': 5712, 'ttf': 6674, 'term_freq': 1, 'tokens': [{'position': 41, 'start_offset': 241, 'end_offset': 245}]}, 'expens': {'doc_freq': 2712, 'ttf': 3276, 'term_freq': 1, 'tokens': [{'position': 4, 'start_offset': 25, 'end_offset': 31}]}, 'face': {'doc_freq': 10046, 'ttf': 12281, 'term_freq': 1, 'tokens': [{'position': 59, 'start_offset': 332, 'end_offset': 336}]}, 'fast': {'doc_freq': 1481, 'ttf': 1778, 'term_freq': 1, 'tokens': [{'position': 56, 'start_offset': 318, 'end_offset': 322}]}, 'flight': {'doc_freq': 4765, 'ttf': 10551, 'term_freq': 1, 'tokens': [{'position': 62, 'start_offset': 347, 'end_offset': 353}]}, 'forgot': {'doc_freq': 148, 'ttf': 164, 'term_freq': 1, 'tokens': [{'position': 23, 'start_offset': 140, 'end_offset': 146}]}, 'four': {'doc_freq': 15385, 'ttf': 20217, 'term_freq': 1, 'tokens': [{'position': 61, 'start_offset': 342, 'end_offset': 346}]}, 'gone': {'doc_freq': 3118, 'ttf': 3457, 'term_freq': 1, 'tokens': [{'position': 46, 'start_offset': 266, 'end_offset': 270}]}, 'grabham': {'doc_freq': 1, 'ttf': 4, 'term_freq': 4, 'tokens': [{'position': 2, 'start_offset': 12, 'end_offset': 19}, {'position': 16, 'start_offset': 94, 'end_offset': 101}, {'position': 39, 'start_offset': 226, 'end_offset': 233}, {'position': 85, 'start_offset': 478, 'end_offset': 485}]}, 'hi': {'doc_freq': 41909, 'ttf': 142205, 'term_freq': 3, 'tokens': [{'position': 6, 'start_offset': 37, 'end_offset': 39}, {'position': 11, 'start_offset': 60, 'end_offset': 62}, {'position': 87, 'start_offset': 491, 'end_offset': 493}]}, 'hid': {'doc_freq': 191, 'ttf': 205, 'term_freq': 1, 'tokens': [{'position': 17, 'start_offset': 102, 'end_offset': 105}]}, 'hilari': {'doc_freq': 64, 'ttf': 75, 'term_freq': 1, 'tokens': [{'position': 96, 'start_offset': 550, 'end_offset': 556}]}, 'hope': {'doc_freq': 11189, 'ttf': 14165, 'term_freq': 1, 'tokens': [{'position': 86, 'start_offset': 486, 'end_offset': 490}]}, 'hot': {'doc_freq': 1436, 'ttf': 1755, 'term_freq': 1, 'tokens': [{'position': 76, 'start_offset': 429, 'end_offset': 432}]}, 'hotel': {'doc_freq': 2837, 'ttf': 5325, 'term_freq': 2, 'tokens': [{'position': 35, 'start_offset': 204, 'end_offset': 209}, {'position': 94, 'start_offset': 538, 'end_offset': 543}]}, 'hous': {'doc_freq': 16396, 'ttf': 35511, 'term_freq': 1, 'tokens': [{'position': 34, 'start_offset': 199, 'end_offset': 203}]}, 'identifi': {'doc_freq': 5263, 'ttf': 6246, 'term_freq': 1, 'tokens': [{'position': 92, 'start_offset': 521, 'end_offset': 529}]}, 'joke': {'doc_freq': 901, 'ttf': 1079, 'term_freq': 1, 'tokens': [{'position': 74, 'start_offset': 414, 'end_offset': 418}]}, 'lunch': {'doc_freq': 827, 'ttf': 1032, 'term_freq': 1, 'tokens': [{'position': 27, 'start_offset': 162, 'end_offset': 167}]}, 'melt': {'doc_freq': 303, 'ttf': 349, 'term_freq': 1, 'tokens': [{'position': 53, 'start_offset': 302, 'end_offset': 306}]}, 'mess': {'doc_freq': 421, 'ttf': 469, 'term_freq': 1, 'tokens': [{'position': 101, 'start_offset': 576, 'end_offset': 580}]}, 'monday': {'doc_freq': 17907, 'ttf': 28722, 'term_freq': 1, 'tokens': [{'position': 57, 'start_offset': 323, 'end_offset': 329}]}, 'money': {'doc_freq': 11103, 'ttf': 18582, 'term_freq': 4, 'tokens': [{'position': 18, 'start_offset': 106, 'end_offset': 111}, {'position': 65, 'start_offset': 364, 'end_offset': 369}, {'position': 77, 'start_offset': 433, 'end_offset': 438}, {'position': 103, 'start_offset': 586, 'end_offset': 591}]}, 'new': {'doc_freq': 40328, 'ttf': 87740, 'term_freq': 2, 'tokens': [{'position': 8, 'start_offset': 47, 'end_offset': 50}, {'position': 33, 'start_offset': 195, 'end_offset': 198}]}, 'night': {'doc_freq': 10542, 'ttf': 14580, 'term_freq': 3, 'tokens': [{'position': 14, 'start_offset': 81, 'end_offset': 86}, {'position': 21, 'start_offset': 129, 'end_offset': 134}, {'position': 69, 'start_offset': 389, 'end_offset': 394}]}, 'note': {'doc_freq': 6893, 'ttf': 8284, 'term_freq': 2, 'tokens': [{'position': 31, 'start_offset': 185, 'end_offset': 189}, {'position': 49, 'start_offset': 281, 'end_offset': 285}]}, 'oven': {'doc_freq': 86, 'ttf': 104, 'term_freq': 3, 'tokens': [{'position': 22, 'start_offset': 135, 'end_offset': 139}, {'position': 25, 'start_offset': 152, 'end_offset': 156}, {'position': 44, 'start_offset': 257, 'end_offset': 261}]}, 'owner': {'doc_freq': 3540, 'ttf': 4645, 'term_freq': 1, 'tokens': [{'position': 95, 'start_offset': 544, 'end_offset': 549}]}, 'place': {'doc_freq': 11696, 'ttf': 14748, 'term_freq': 1, 'tokens': [{'position': 105, 'start_offset': 595, 'end_offset': 600}]}, 'pound': {'doc_freq': 3416, 'ttf': 7182, 'term_freq': 1, 'tokens': [{'position': 30, 'start_offset': 179, 'end_offset': 184}]}, 'profit': {'doc_freq': 3874, 'ttf': 5840, 'term_freq': 1, 'tokens': [{'position': 13, 'start_offset': 74, 'end_offset': 80}]}, 'properly': {'doc_freq': 241, 'ttf': 247, 'term_freq': 1, 'tokens': [{'position': 67, 'start_offset': 375, 'end_offset': 383}]}, 'put': {'doc_freq': 13023, 'ttf': 15910, 'term_freq': 2, 'tokens': [{'position': 64, 'start_offset': 360, 'end_offset': 363}, {'position': 73, 'start_offset': 410, 'end_offset': 413}]}, 'reach': {'doc_freq': 9108, 'ttf': 10848, 'term_freq': 1, 'tokens': [{'position': 43, 'start_offset': 251, 'end_offset': 256}]}, 'realiz': {'doc_freq': 2108, 'ttf': 2275, 'term_freq': 1, 'tokens': [{'position': 40, 'start_offset': 234, 'end_offset': 240}]}, 'remains': {'doc_freq': 236, 'ttf': 258, 'term_freq': 1, 'tokens': [{'position': 93, 'start_offset': 530, 'end_offset': 537}]}, 'restaurant': {'doc_freq': 374, 'ttf': 456, 'term_freq': 1, 'tokens': [{'position': 12, 'start_offset': 63, 'end_offset': 73}]}, 'right': {'doc_freq': 14382, 'ttf': 23413, 'term_freq': 1, 'tokens': [{'position': 83, 'start_offset': 464, 'end_offset': 469}]}, 'saturday': {'doc_freq': 9153, 'ttf': 13670, 'term_freq': 1, 'tokens': [{'position': 20, 'start_offset': 120, 'end_offset': 128}]}, 'serv': {'doc_freq': 7924, 'ttf': 10189, 'term_freq': 1, 'tokens': [{'position': 82, 'start_offset': 459, 'end_offset': 463}]}, 'smell': {'doc_freq': 371, 'ttf': 498, 'term_freq': 1, 'tokens': [{'position': 28, 'start_offset': 168, 'end_offset': 173}]}, 'smoke': {'doc_freq': 1567, 'ttf': 3025, 'term_freq': 1, 'tokens': [{'position': 47, 'start_offset': 271, 'end_offset': 276}]}, 'stair': {'doc_freq': 89, 'ttf': 98, 'term_freq': 1, 'tokens': [{'position': 63, 'start_offset': 354, 'end_offset': 359}]}, 'stuck': {'doc_freq': 618, 'ttf': 664, 'term_freq': 1, 'tokens': [{'position': 55, 'start_offset': 312, 'end_offset': 317}]}, 'suppose': {'doc_freq': 31, 'ttf': 33, 'term_freq': 1, 'tokens': [{'position': 84, 'start_offset': 470, 'end_offset': 477}]}, 'sure': {'doc_freq': 4058, 'ttf': 4484, 'term_freq': 1, 'tokens': [{'position': 102, 'start_offset': 581, 'end_offset': 585}]}, 'time': {'doc_freq': 30038, 'ttf': 48693, 'term_freq': 1, 'tokens': [{'position': 42, 'start_offset': 246, 'end_offset': 250}]}, 'turn': {'doc_freq': 11007, 'ttf': 13348, 'term_freq': 1, 'tokens': [{'position': 24, 'start_offset': 147, 'end_offset': 151}]}, 'understand': {'doc_freq': 3433, 'ttf': 3994, 'term_freq': 1, 'tokens': [{'position': 89, 'start_offset': 499, 'end_offset': 509}]}, 'wa': {'doc_freq': 70549, 'ttf': 291835, 'term_freq': 3, 'tokens': [{'position': 70, 'start_offset': 395, 'end_offset': 397}, {'position': 100, 'start_offset': 573, 'end_offset': 575}, {'position': 104, 'start_offset': 592, 'end_offset': 594}]}, 'waft': {'doc_freq': 50, 'ttf': 50, 'term_freq': 1, 'tokens': [{'position': 32, 'start_offset': 190, 'end_offset': 194}]}, 'wale': {'doc_freq': 107, 'ttf': 125, 'term_freq': 1, 'tokens': [{'position': 37, 'start_offset': 215, 'end_offset': 219}]}, 'walk': {'doc_freq': 3659, 'ttf': 4509, 'term_freq': 1, 'tokens': [{'position': 60, 'start_offset': 337, 'end_offset': 341}]}, 'ward': {'doc_freq': 656, 'ttf': 1114, 'term_freq': 1, 'tokens': [{'position': 97, 'start_offset': 557, 'end_offset': 561}]}, 'west': {'doc_freq': 12954, 'ttf': 27410, 'term_freq': 1, 'tokens': [{'position': 36, 'start_offset': 210, 'end_offset': 214}]}, 'whacked': {'doc_freq': 5, 'ttf': 5, 'term_freq': 1, 'tokens': [{'position': 71, 'start_offset': 398, 'end_offset': 405}]}}\n"
     ]
    }
   ],
   "source": [
    "from elasticsearch7 import Elasticsearch\n",
    "from elasticsearch7.helpers import scan\n",
    "\n",
    "index_name = \"ap89_data4\"\n",
    "es = Elasticsearch(\"http://localhost:9200\")\n",
    "\n",
    "def retrieve_all_document_ids():\n",
    "    document_ids = []\n",
    "\n",
    "    for hit in scan(\n",
    "        es,\n",
    "        query={\"query\": {\"match_all\": {}}},\n",
    "        index=index_name,\n",
    "        doc_type=\"_doc\",\n",
    "        _source=False, \n",
    "    ):\n",
    "        doc_id = hit[\"_id\"]\n",
    "        document_ids.append(doc_id)\n",
    "    print(\"doc_id done\")\n",
    "    return document_ids\n",
    "\n",
    "def retrieve_document_term_vectors(document_ids):\n",
    "    document_term_vectors = {}\n",
    "\n",
    "    for doc_id in document_ids:\n",
    "        res = es.termvectors(index=index_name, id=doc_id, fields=['content'], term_statistics=True)\n",
    "\n",
    "        if \"content\" in res[\"term_vectors\"]:\n",
    "            document_term_vectors[doc_id] = res[\"term_vectors\"][\"content\"][\"terms\"]\n",
    "        else:\n",
    "            document_term_vectors[doc_id] = {}\n",
    "            \n",
    "    return document_term_vectors\n",
    "\n",
    "all_document_ids = retrieve_all_document_ids()\n",
    "print(all_document_ids[0])\n",
    "all_document_term_vectors = retrieve_document_term_vectors(all_document_ids)\n",
    "print(all_document_term_vectors[\"AP890102-0056\"])\n"
   ]
  },
  {
   "cell_type": "code",
   "execution_count": 13,
   "id": "694e607a",
   "metadata": {},
   "outputs": [],
   "source": [
    "document_lengths = {}\n",
    "doc_length_sum = 0\n",
    "\n",
    "for doc_id, document_term_vector in all_document_term_vectors.items():\n",
    "    length_doc = 0\n",
    "    \n",
    "    for term, term_info in document_term_vector.items():\n",
    "        length_doc += 1 * term_info.get('term_freq', 0)\n",
    "\n",
    "    document_lengths[doc_id] = length_doc\n",
    "    doc_length_sum += length_doc"
   ]
  },
  {
   "cell_type": "code",
   "execution_count": 14,
   "id": "57d5bcdf",
   "metadata": {},
   "outputs": [
    {
     "name": "stdout",
     "output_type": "stream",
     "text": [
      "90\n",
      "84678\n",
      "21577217\n",
      "254.81491060251778\n"
     ]
    }
   ],
   "source": [
    "print(document_lengths[\"AP890103-0053\"])\n",
    "print(len(all_document_term_vectors))\n",
    "print(doc_length_sum)\n",
    "avg_doc_length = doc_length_sum / len(all_document_term_vectors)\n",
    "print(avg_doc_length)"
   ]
  },
  {
   "cell_type": "markdown",
   "id": "a2b0bdcf",
   "metadata": {},
   "source": [
    "# Okapi TF"
   ]
  },
  {
   "cell_type": "code",
   "execution_count": 16,
   "id": "a5e5e0d3",
   "metadata": {
    "scrolled": true
   },
   "outputs": [
    {
     "name": "stdout",
     "output_type": "stream",
     "text": [
      "Processing Query 85: corrupt public offici\n",
      "Processing Query 59: weather least locat\n",
      "Processing Query 56: prime lend rate prime rate\n",
      "Processing Query 71: incurs border guerrilla\n",
      "Processing Query 64: hostag\n",
      "Processing Query 62: coup attempt\n",
      "Processing Query 93: nation rifl associ nra\n",
      "Processing Query 99: iran contra affair\n",
      "Processing Query 58: rail strike rail strike\n",
      "Processing Query 77: poach wildlif\n",
      "Processing Query 54: agreement launch commerci satellit\n",
      "Processing Query 87: offic institut\n",
      "Processing Query 94: crime comput\n",
      "Processing Query 100: communist transfer technolog nation\n",
      "Processing Query 89: invest opec downstream\n",
      "Processing Query 61: israel iran contra affair\n",
      "Processing Query 95: comput crime\n",
      "Processing Query 68: safeti worker diamet fiber\n",
      "Processing Query 57: mci\n",
      "Processing Query 97: fiber optic technolog\n",
      "Processing Query 98: fiber optic\n",
      "Processing Query 60: salari incent pay pay\n",
      "Processing Query 80: 1988 presidenti\n",
      "Processing Query 63: translat\n",
      "Processing Query 91: weapon\n",
      "Queries executed successfully.\n"
     ]
    }
   ],
   "source": [
    "def calculate_okapi_tf(tf, length_doc, avg_doc_length):\n",
    "    return tf / (tf + 0.5 + 1.5 * (length_doc / avg_doc_length))\n",
    "\n",
    "def calculate_query_scores(query_terms, all_document_term_vectors):\n",
    "    query_scores = {}\n",
    "\n",
    "    for term in query_terms:\n",
    "        term_scores = {}\n",
    "\n",
    "        for doc_id, term_info in all_document_term_vectors.items():\n",
    "            if term in term_info:\n",
    "                tf = term_info[term][\"term_freq\"]\n",
    "                length_doc = document_lengths[doc_id]\n",
    "\n",
    "                okapi_tf_score = calculate_okapi_tf(tf, length_doc, avg_doc_length)\n",
    "\n",
    "                term_scores[doc_id] = okapi_tf_score\n",
    "\n",
    "        query_scores[term] = term_scores\n",
    "\n",
    "    return query_scores\n",
    "\n",
    "def calculate_matching_score(query_terms, document_id, document_term_vector, avg_doc_length):\n",
    "    score = 0\n",
    "\n",
    "    for term in query_terms:\n",
    "        if term in document_term_vector:\n",
    "            tf = document_term_vector[term][\"term_freq\"]\n",
    "            length_doc = document_lengths[document_id]\n",
    "            okapi_tf_score = calculate_okapi_tf(tf, length_doc, avg_doc_length)\n",
    "            score += okapi_tf_score\n",
    "\n",
    "    return score\n",
    "\n",
    "def run_queries_and_write_results_okapitf(output_file, query_dict):\n",
    "    with open(output_file, 'w') as output:\n",
    "        for query_num, query_text in query_dict.items():\n",
    "            print(f\"Processing Query {query_num}: {query_text}\")\n",
    "\n",
    "            query_terms = query_text.split()\n",
    "            document_scores = {}\n",
    "\n",
    "            for doc_id, document_term_vector in all_document_term_vectors.items():\n",
    "                score = calculate_matching_score(query_terms, doc_id, document_term_vector, avg_doc_length)\n",
    "                document_scores[doc_id] = score\n",
    "\n",
    "            sorted_docs = sorted(document_scores.items(), key=lambda x: x[1], reverse=True)[:1000]\n",
    "\n",
    "            for rank, (doc_id, score) in enumerate(sorted_docs, start=1):\n",
    "                output.write(str(query_num) + ' Q0 ' + str(doc_id) + ' ' + str(rank) + ' ' + str(score) + ' Exp'+\"\\n\")\n",
    "\n",
    "output_file_path = \"./Deliverables/output_okapiTF_Score.txt\"\n",
    "run_queries_and_write_results_okapitf(output_file_path, query_dict)\n",
    "print(\"Queries executed successfully.\")"
   ]
  },
  {
   "cell_type": "markdown",
   "id": "2c0c73bf",
   "metadata": {},
   "source": [
    "# TF-IDF"
   ]
  },
  {
   "cell_type": "code",
   "execution_count": 18,
   "id": "d9227fb9",
   "metadata": {},
   "outputs": [
    {
     "name": "stdout",
     "output_type": "stream",
     "text": [
      "Processing Query 85: corrupt public offici\n",
      "Processing Query 59: weather least locat\n",
      "Processing Query 56: prime lend rate prime rate\n",
      "Processing Query 71: incurs border guerrilla\n",
      "Processing Query 64: hostag\n",
      "Processing Query 62: coup attempt\n",
      "Processing Query 93: nation rifl associ nra\n",
      "Processing Query 99: iran contra affair\n",
      "Processing Query 58: rail strike rail strike\n",
      "Processing Query 77: poach wildlif\n",
      "Processing Query 54: agreement launch commerci satellit\n",
      "Processing Query 87: offic institut\n",
      "Processing Query 94: crime comput\n",
      "Processing Query 100: communist transfer technolog nation\n",
      "Processing Query 89: invest opec downstream\n",
      "Processing Query 61: israel iran contra affair\n",
      "Processing Query 95: comput crime\n",
      "Processing Query 68: safeti worker diamet fiber\n",
      "Processing Query 57: mci\n",
      "Processing Query 97: fiber optic technolog\n",
      "Processing Query 98: fiber optic\n",
      "Processing Query 60: salari incent pay pay\n",
      "Processing Query 80: 1988 presidenti\n",
      "Processing Query 63: translat\n",
      "Processing Query 91: weapon\n",
      "Queries executed successfully.\n"
     ]
    }
   ],
   "source": [
    "def calculate_okapi_tf_tfidf(tf, length_doc, avg_doc_length):\n",
    "    return tf / (tf + 0.5 + 1.5 * (length_doc / avg_doc_length))\n",
    "\n",
    "def calculate_idf(dfw, total_documents):\n",
    "    return math.log(total_documents / dfw)\n",
    "\n",
    "def calculate_tfidf(tf, length_doc, avg_doc_length, dfw, total_documents):\n",
    "    okapi_tf_score = calculate_okapi_tf_tfidf(tf, length_doc, avg_doc_length)\n",
    "    idf_score = calculate_idf(dfw, total_documents)\n",
    "    return okapi_tf_score * idf_score\n",
    "\n",
    "def run_queries_and_write_results_tfidf(output_file, query_dict):\n",
    "    with open(output_file, 'w') as output:\n",
    "        for query_num, query_text in query_dict.items():\n",
    "            print(f\"Processing Query {query_num}: {query_text}\")\n",
    "            query_terms = query_text.split()\n",
    "            total_documents = len(all_document_ids)\n",
    "            document_scores = {}\n",
    "\n",
    "            for doc_id, document_term_vector in all_document_term_vectors.items():\n",
    "                score = 0\n",
    "\n",
    "                for term in query_terms:\n",
    "                    if term in document_term_vector:\n",
    "                        tf = document_term_vector[term][\"term_freq\"]\n",
    "                        length_doc = document_lengths[doc_id]\n",
    "                        dfw = document_term_vector[term][\"doc_freq\"]\n",
    "                        \n",
    "                        tfidf_score = calculate_tfidf(tf, length_doc, avg_doc_length, dfw, total_documents)\n",
    "                        score += tfidf_score\n",
    "\n",
    "                document_scores[doc_id] = score\n",
    "\n",
    "            sorted_docs = sorted(document_scores.items(), key=lambda x: x[1], reverse=True)[:1000]\n",
    "\n",
    "            for rank, (doc_id, score) in enumerate(sorted_docs, start=1):\n",
    "                output.write(str(query_num) + ' Q0 ' + str(doc_id) + ' ' + str(rank) + ' ' + str(score) + ' Exp'+\"\\n\")\n",
    "\n",
    "output_file_path = \"./Deliverables/output_TFIDF_Score.txt\"\n",
    "run_queries_and_write_results_tfidf(output_file_path, query_dict)\n",
    "print(\"Queries executed successfully.\")"
   ]
  },
  {
   "cell_type": "markdown",
   "id": "7345436f",
   "metadata": {},
   "source": [
    "# Okapi BM25"
   ]
  },
  {
   "cell_type": "code",
   "execution_count": 19,
   "id": "3e4c41a9",
   "metadata": {},
   "outputs": [
    {
     "name": "stdout",
     "output_type": "stream",
     "text": [
      "Processing Query 85: corrupt public offici\n",
      "Processing Query 59: weather least locat\n",
      "Processing Query 56: prime lend rate prime rate\n",
      "Processing Query 71: incurs border guerrilla\n",
      "Processing Query 64: hostag\n",
      "Processing Query 62: coup attempt\n",
      "Processing Query 93: nation rifl associ nra\n",
      "Processing Query 99: iran contra affair\n",
      "Processing Query 58: rail strike rail strike\n",
      "Processing Query 77: poach wildlif\n",
      "Processing Query 54: agreement launch commerci satellit\n",
      "Processing Query 87: offic institut\n",
      "Processing Query 94: crime comput\n",
      "Processing Query 100: communist transfer technolog nation\n",
      "Processing Query 89: invest opec downstream\n",
      "Processing Query 61: israel iran contra affair\n",
      "Processing Query 95: comput crime\n",
      "Processing Query 68: safeti worker diamet fiber\n",
      "Processing Query 57: mci\n",
      "Processing Query 97: fiber optic technolog\n",
      "Processing Query 98: fiber optic\n",
      "Processing Query 60: salari incent pay pay\n",
      "Processing Query 80: 1988 presidenti\n",
      "Processing Query 63: translat\n",
      "Processing Query 91: weapon\n",
      "Queries executed successfully.\n"
     ]
    }
   ],
   "source": [
    "def calculate_okapi_bm25(tfwd, dfw, D, length_doc, avg_doc_length, tfwq, k1=1.2, b=0.75, k2=100):\n",
    "    term2_num = (tfwd * (k1 + 1))\n",
    "    term2_den = (tfwd + k1 * ((1 - b) + (b * (length_doc / avg_doc_length)))) \n",
    "    term3 = (tfwq + (k2 * tfwq)) / (tfwq + k2)\n",
    "    term1 = math.log((D + 0.5) / (dfw + 0.5))\n",
    "    return term1 * (term2_num / term2_den) * term3\n",
    "\n",
    "def run_queries_and_write_results_bm25(output_file, query_dict):\n",
    "    with open(output_file, 'w') as output:\n",
    "        for query_num, query_text in query_dict.items():\n",
    "            print(f\"Processing Query {query_num}: {query_text}\")\n",
    "\n",
    "            query_terms = query_text.split()\n",
    "            D = len(all_document_ids)  \n",
    "            document_scores = defaultdict(float)\n",
    "\n",
    "            for doc_id, document_term_vector in all_document_term_vectors.items():\n",
    "                score = 0\n",
    "\n",
    "                for term in query_terms:\n",
    "                    if term in document_term_vector:\n",
    "                        tfwd = document_term_vector[term][\"term_freq\"]\n",
    "                        length_doc = document_lengths[doc_id]\n",
    "                        dfw = document_term_vector[term][\"doc_freq\"]\n",
    "                        tfwq = query_terms.count(term)\n",
    "\n",
    "                        bm25_score = calculate_okapi_bm25(tfwd, dfw, D, length_doc, avg_doc_length, tfwq)\n",
    "                        score += bm25_score\n",
    "\n",
    "                document_scores[doc_id] = score\n",
    "\n",
    "            sorted_docs = sorted(document_scores.items(), key=lambda x: x[1], reverse=True)[:1000]\n",
    "\n",
    "            for rank, (doc_id, score) in enumerate(sorted_docs, start=1):\n",
    "                output.write(str(query_num) + ' Q0 ' + str(doc_id) + ' ' + str(rank) + ' ' + str(score) + ' Exp'+\"\\n\")\n",
    "                \n",
    "output_file_path = \"./Deliverables/output_BM25_Score.txt\"\n",
    "run_queries_and_write_results_bm25(output_file_path, query_dict)\n",
    "print(\"Queries executed successfully.\")"
   ]
  },
  {
   "cell_type": "markdown",
   "id": "87ee0bab",
   "metadata": {},
   "source": [
    "# Unigram LM with Laplace smoothing"
   ]
  },
  {
   "cell_type": "code",
   "execution_count": 20,
   "id": "ee9157af",
   "metadata": {},
   "outputs": [
    {
     "name": "stdout",
     "output_type": "stream",
     "text": [
      "Number of unique terms across documents: 262010\n"
     ]
    }
   ],
   "source": [
    "unique_terms_set = set()\n",
    "count = 0\n",
    "\n",
    "for document_id, term_info in all_document_term_vectors.items():\n",
    "    terms = term_info.keys()\n",
    "    unique_terms_set.update(terms)\n",
    "\n",
    "unique_terms_list = list(unique_terms_set)\n",
    "\n",
    "print(f\"Number of unique terms across documents: {len(unique_terms_list)}\")\n"
   ]
  },
  {
   "cell_type": "code",
   "execution_count": 21,
   "id": "f3f7932a",
   "metadata": {},
   "outputs": [],
   "source": [
    "total_unique_terms = len(unique_terms_list)"
   ]
  },
  {
   "cell_type": "code",
   "execution_count": 22,
   "id": "6e8c8e16",
   "metadata": {},
   "outputs": [
    {
     "name": "stdout",
     "output_type": "stream",
     "text": [
      "Processing Query 85: corrupt public offici\n",
      "Processing Query 59: weather least locat\n",
      "Processing Query 56: prime lend rate prime rate\n",
      "Processing Query 71: incurs border guerrilla\n",
      "Processing Query 64: hostag\n",
      "Processing Query 62: coup attempt\n",
      "Processing Query 93: nation rifl associ nra\n",
      "Processing Query 99: iran contra affair\n",
      "Processing Query 58: rail strike rail strike\n",
      "Processing Query 77: poach wildlif\n",
      "Processing Query 54: agreement launch commerci satellit\n",
      "Processing Query 87: offic institut\n",
      "Processing Query 94: crime comput\n",
      "Processing Query 100: communist transfer technolog nation\n",
      "Processing Query 89: invest opec downstream\n",
      "Processing Query 61: israel iran contra affair\n",
      "Processing Query 95: comput crime\n",
      "Processing Query 68: safeti worker diamet fiber\n",
      "Processing Query 57: mci\n",
      "Processing Query 97: fiber optic technolog\n",
      "Processing Query 98: fiber optic\n",
      "Processing Query 60: salari incent pay pay\n",
      "Processing Query 80: 1988 presidenti\n",
      "Processing Query 63: translat\n",
      "Processing Query 91: weapon\n",
      "Queries executed successfully.\n"
     ]
    }
   ],
   "source": [
    "def calculate_laplace_score(tfwd, length_doc, total_unique_terms):\n",
    "    return math.log((tfwd + 1) / (length_doc + total_unique_terms))\n",
    "\n",
    "def run_queries_and_write_results_laplace(output_file, query_dict, total_unique_terms):\n",
    "    with open(output_file, 'w') as output:\n",
    "        for query_num, query_text in query_dict.items():\n",
    "            print(f\"Processing Query {query_num}: {query_text}\")\n",
    "\n",
    "            query_terms = query_text.split()\n",
    "            document_scores = {}\n",
    "\n",
    "            for doc_id, document_term_vector in all_document_term_vectors.items():\n",
    "                score = 1000\n",
    "\n",
    "                for term in query_terms:\n",
    "                    if term in document_term_vector:\n",
    "                        tf = document_term_vector[term][\"term_freq\"]\n",
    "                        length_doc = document_lengths[doc_id]\n",
    "                        \n",
    "                        laplace_score = calculate_laplace_score(tf, length_doc, total_unique_terms)\n",
    "                        score += laplace_score\n",
    "                    else:\n",
    "                        score -= 1000\n",
    "\n",
    "                document_scores[doc_id] = score\n",
    "\n",
    "            sorted_docs = sorted(document_scores.items(), key=lambda x: x[1], reverse=True)[:1000]\n",
    "\n",
    "            for rank, (doc_id, score) in enumerate(sorted_docs, start=1):\n",
    "                output.write(str(query_num) + ' Q0 ' + str(doc_id) + ' ' + str(rank) + ' ' + str(score) + ' Exp'+\"\\n\")\n",
    "\n",
    "output_file_path = \"./Deliverables/output_UnigramLaplace_Score.txt\"\n",
    "run_queries_and_write_results_laplace(output_file_path, query_dict, total_unique_terms)\n",
    "print(\"Queries executed successfully.\")"
   ]
  },
  {
   "cell_type": "markdown",
   "id": "22d424a9",
   "metadata": {},
   "source": [
    "# Unigram LM with Jelinek-Mercer smoothing"
   ]
  },
  {
   "cell_type": "code",
   "execution_count": 25,
   "id": "57988d37",
   "metadata": {},
   "outputs": [],
   "source": [
    "def calculate_term_freq_in_corpus(all_document_term_vectors, all_query_terms):\n",
    "    term_freq_in_corpus = {}\n",
    "\n",
    "    for document_term_vector in all_document_term_vectors.values():\n",
    "        for target_term in all_query_terms:\n",
    "            term_freq_in_doc = document_term_vector.get(target_term, {\"term_freq\": 0})[\"term_freq\"]\n",
    "            term_freq_in_corpus[target_term] = term_freq_in_corpus.get(target_term, 0) + term_freq_in_doc\n",
    "    print(term_freq_in_corpus)\n",
    "    return term_freq_in_corpus\n",
    "\n",
    "def get_query_terms(query_dict):\n",
    "    all_query_terms=[]\n",
    "    for query_num, query_text in query_dict.items():\n",
    "        print(f\"Processing Query {query_num}: {query_text}\")\n",
    "        all_query_terms += query_text.split()\n",
    "            \n",
    "    term_freq_in_corpus = calculate_term_freq_in_corpus(all_document_term_vectors, all_query_terms)\n",
    "    print(term_freq_in_corpus)\n",
    "    return term_freq_in_corpus"
   ]
  },
  {
   "cell_type": "code",
   "execution_count": 26,
   "id": "bb2ddea4",
   "metadata": {},
   "outputs": [
    {
     "name": "stdout",
     "output_type": "stream",
     "text": [
      "Processing Query 85: corrupt public offici\n",
      "Processing Query 59: weather least locat\n",
      "Processing Query 56: prime lend rate prime rate\n",
      "Processing Query 71: incurs border guerrilla\n",
      "Processing Query 64: hostag\n",
      "Processing Query 62: coup attempt\n",
      "Processing Query 93: nation rifl associ nra\n",
      "Processing Query 99: iran contra affair\n",
      "Processing Query 58: rail strike rail strike\n",
      "Processing Query 77: poach wildlif\n",
      "Processing Query 54: agreement launch commerci satellit\n",
      "Processing Query 87: offic institut\n",
      "Processing Query 94: crime comput\n",
      "Processing Query 100: communist transfer technolog nation\n",
      "Processing Query 89: invest opec downstream\n",
      "Processing Query 61: israel iran contra affair\n",
      "Processing Query 95: comput crime\n",
      "Processing Query 68: safeti worker diamet fiber\n",
      "Processing Query 57: mci\n",
      "Processing Query 97: fiber optic technolog\n",
      "Processing Query 98: fiber optic\n",
      "Processing Query 60: salari incent pay pay\n",
      "Processing Query 80: 1988 presidenti\n",
      "Processing Query 63: translat\n",
      "Processing Query 91: weapon\n",
      "{'corrupt': 1856, 'public': 23607, 'offici': 55742, 'weather': 5234, 'least': 15009, 'locat': 2813, 'prime': 17904, 'lend': 1236, 'rate': 41518, 'incurs': 96, 'border': 7365, 'guerrilla': 8117, 'hostag': 3163, 'coup': 2796, 'attempt': 9396, 'nation': 119498, 'rifl': 1444, 'associ': 13529, 'nra': 178, 'iran': 12368, 'contra': 6786, 'affair': 8720, 'rail': 2634, 'strike': 24404, 'poach': 95, 'wildlif': 1371, 'agreement': 13303, 'launch': 5849, 'commerci': 5105, 'satellit': 1922, 'offic': 27581, 'institut': 7384, 'crime': 10302, 'comput': 12376, 'communist': 14499, 'transfer': 2882, 'technolog': 6838, 'invest': 7630, 'opec': 990, 'downstream': 110, 'israel': 10380, 'safeti': 5622, 'worker': 13771, 'diamet': 162, 'fiber': 1173, 'mci': 277, 'optic': 304, 'salari': 2054, 'incent': 1431, 'pay': 31956, '1988': 16708, 'presidenti': 6111, 'translat': 925, 'weapon': 8321}\n",
      "{'corrupt': 1856, 'public': 23607, 'offici': 55742, 'weather': 5234, 'least': 15009, 'locat': 2813, 'prime': 17904, 'lend': 1236, 'rate': 41518, 'incurs': 96, 'border': 7365, 'guerrilla': 8117, 'hostag': 3163, 'coup': 2796, 'attempt': 9396, 'nation': 119498, 'rifl': 1444, 'associ': 13529, 'nra': 178, 'iran': 12368, 'contra': 6786, 'affair': 8720, 'rail': 2634, 'strike': 24404, 'poach': 95, 'wildlif': 1371, 'agreement': 13303, 'launch': 5849, 'commerci': 5105, 'satellit': 1922, 'offic': 27581, 'institut': 7384, 'crime': 10302, 'comput': 12376, 'communist': 14499, 'transfer': 2882, 'technolog': 6838, 'invest': 7630, 'opec': 990, 'downstream': 110, 'israel': 10380, 'safeti': 5622, 'worker': 13771, 'diamet': 162, 'fiber': 1173, 'mci': 277, 'optic': 304, 'salari': 2054, 'incent': 1431, 'pay': 31956, '1988': 16708, 'presidenti': 6111, 'translat': 925, 'weapon': 8321}\n"
     ]
    }
   ],
   "source": [
    "term_freq_in_corpus = get_query_terms(query_dict)"
   ]
  },
  {
   "cell_type": "code",
   "execution_count": 27,
   "id": "217f0dc7",
   "metadata": {},
   "outputs": [
    {
     "name": "stdout",
     "output_type": "stream",
     "text": [
      "{'corrupt': 1856, 'public': 23607, 'offici': 55742, 'weather': 5234, 'least': 15009, 'locat': 2813, 'prime': 17904, 'lend': 1236, 'rate': 41518, 'incurs': 96, 'border': 7365, 'guerrilla': 8117, 'hostag': 3163, 'coup': 2796, 'attempt': 9396, 'nation': 119498, 'rifl': 1444, 'associ': 13529, 'nra': 178, 'iran': 12368, 'contra': 6786, 'affair': 8720, 'rail': 2634, 'strike': 24404, 'poach': 95, 'wildlif': 1371, 'agreement': 13303, 'launch': 5849, 'commerci': 5105, 'satellit': 1922, 'offic': 27581, 'institut': 7384, 'crime': 10302, 'comput': 12376, 'communist': 14499, 'transfer': 2882, 'technolog': 6838, 'invest': 7630, 'opec': 990, 'downstream': 110, 'israel': 10380, 'safeti': 5622, 'worker': 13771, 'diamet': 162, 'fiber': 1173, 'mci': 277, 'optic': 304, 'salari': 2054, 'incent': 1431, 'pay': 31956, '1988': 16708, 'presidenti': 6111, 'translat': 925, 'weapon': 8321}\n",
      "Processing Query 85: corrupt public offici\n",
      "Processing Query 59: weather least locat\n",
      "Processing Query 56: prime lend rate prime rate\n",
      "Processing Query 71: incurs border guerrilla\n",
      "Processing Query 64: hostag\n",
      "Processing Query 62: coup attempt\n",
      "Processing Query 93: nation rifl associ nra\n",
      "Processing Query 99: iran contra affair\n",
      "Processing Query 58: rail strike rail strike\n",
      "Processing Query 77: poach wildlif\n",
      "Processing Query 54: agreement launch commerci satellit\n",
      "Processing Query 87: offic institut\n",
      "Processing Query 94: crime comput\n",
      "Processing Query 100: communist transfer technolog nation\n",
      "Processing Query 89: invest opec downstream\n",
      "Processing Query 61: israel iran contra affair\n",
      "Processing Query 95: comput crime\n",
      "Processing Query 68: safeti worker diamet fiber\n",
      "Processing Query 57: mci\n",
      "Processing Query 97: fiber optic technolog\n",
      "Processing Query 98: fiber optic\n",
      "Processing Query 60: salari incent pay pay\n",
      "Processing Query 80: 1988 presidenti\n",
      "Processing Query 63: translat\n",
      "Processing Query 91: weapon\n",
      "Queries executed successfully.\n"
     ]
    }
   ],
   "source": [
    "def calculate_jm_score(tfwd, length_doc, lambda_value, tf_corpus, doc_length_sum):\n",
    "    jm_term = lambda_value * (tfwd / length_doc) + (1 - lambda_value) * (tf_corpus / doc_length_sum)\n",
    "    return math.log(jm_term)\n",
    "\n",
    "def run_queries_and_write_results_jm(output_file, query_dict, lambda_value):     \n",
    "    with open(output_file, 'w') as output:\n",
    "        for query_num, query_text in query_dict.items():\n",
    "            print(f\"Processing Query {query_num}: {query_text}\")\n",
    "\n",
    "            query_terms = query_text.split()\n",
    "            document_scores = {}\n",
    "\n",
    "            for doc_id, document_term_vector in all_document_term_vectors.items():\n",
    "                score = 1000\n",
    "\n",
    "                for term in query_terms:\n",
    "                    if term in document_term_vector:\n",
    "                        tf = document_term_vector[term][\"term_freq\"]\n",
    "                        length_doc = document_lengths[doc_id]\n",
    "                        jm_score = calculate_jm_score(tf, length_doc, lambda_value, term_freq_in_corpus[term], doc_length_sum)\n",
    "                        score += jm_score\n",
    "                    else:\n",
    "                        score -= 1000\n",
    "\n",
    "                document_scores[doc_id] = score\n",
    "\n",
    "            sorted_docs = sorted(document_scores.items(), key=lambda x: x[1], reverse=True)[:1000]\n",
    "\n",
    "            for rank, (doc_id, score) in enumerate(sorted_docs, start=1):\n",
    "                output.write(str(query_num) + ' Q0 ' + str(doc_id) + ' ' + str(rank) + ' ' + str(score) + ' Exp'+\"\\n\")\n",
    "                \n",
    "print(term_freq_in_corpus)\n",
    "output_file_path_jm = \"./Deliverables/output_UnigramJM_Score.txt\"\n",
    "lambda_value = 0.8  \n",
    "run_queries_and_write_results_jm(output_file_path_jm, query_dict, lambda_value)\n",
    "print(\"Queries executed successfully.\")"
   ]
  },
  {
   "cell_type": "markdown",
   "id": "fca224d4",
   "metadata": {},
   "source": [
    "# Task 5: Pseudo-relevance Feedback"
   ]
  },
  {
   "cell_type": "code",
   "execution_count": 28,
   "id": "587fb189",
   "metadata": {},
   "outputs": [
    {
     "name": "stdout",
     "output_type": "stream",
     "text": [
      "Top 5 term frequencies for Document AP890123-0235: [('comput', 27), ('crime', 6), ('say', 6), ('system', 5), ('ani', 4)]\n",
      "Top 5 term frequencies for Document AP891113-0008: [('comput', 26), ('feder', 9), ('intent', 6), ('viru', 6), ('virus', 6)]\n",
      "Top 5 term frequencies for Document AP890123-0236: [('comput', 19), ('hacker', 10), ('say', 9), ('ha', 7), ('dont', 5)]\n",
      "Top 5 term frequencies for Document AP890212-0033: [('fbi', 8), ('comput', 7), ('ncic', 6), ('report', 6), ('system', 6)]\n",
      "Top 5 term frequencies for Document AP890520-0024: [('comput', 8), ('bill', 5), ('virus', 4), ('make', 3), ('becaus', 2)]\n",
      "------------------------------------------------------------------------------------------------------------------------\n",
      "Top 5 term frequencies for Document AP890414-0195: [('institut', 11), ('research', 9), ('associ', 4), ('govern', 4), ('panel', 4)]\n",
      "Top 5 term frequencies for Document AP891208-0171: [('feder', 14), ('citi', 8), ('new', 8), ('thrift', 8), ('bank', 5)]\n",
      "Top 5 term frequencies for Document AP891222-0037: [('billion', 14), ('loss', 13), ('institut', 9), ('million', 9), ('quarter', 8)]\n",
      "Top 5 term frequencies for Document AP890914-0253: [('100000', 6), ('thrift', 5), ('deposit', 3), ('feder', 3), ('government', 3)]\n",
      "Top 5 term frequencies for Document AP890713-0306: [('feder', 20), ('loan', 17), ('association', 12), ('bank', 8), ('fa', 6)]\n",
      "------------------------------------------------------------------------------------------------------------------------\n",
      "Top 5 term frequencies for Document AP890727-0187: [('health', 5), ('dole', 4), ('ha', 4), ('plant', 4), ('worker', 4)]\n",
      "Top 5 term frequencies for Document AP891226-0148: [('asbesto', 29), ('con', 15), ('ed', 12), ('wa', 12), ('ha', 10)]\n",
      "Top 5 term frequencies for Document AP891123-0035: [('plant', 8), ('river', 6), ('avtex', 5), ('fine', 4), ('attorney', 3)]\n",
      "Top 5 term frequencies for Document AP890930-0010: [('fda', 9), ('cereal', 8), ('compani', 5), ('food', 5), ('gener', 5)]\n",
      "Top 5 term frequencies for Document AP890531-0021: [('calnev', 8), ('feder', 8), ('pipelin', 8), ('citi', 6), ('attorney', 4)]\n",
      "------------------------------------------------------------------------------------------------------------------------\n",
      "Top 5 term frequencies for Document AP890206-0255: [('satellit', 7), ('comsat', 3), ('fiber', 3), ('optic', 3), ('studi', 3)]\n",
      "Top 5 term frequencies for Document AP890227-0326: [('corn', 4), ('fiber', 4), ('optic', 4), ('sumitomo', 4), ('1987', 3)]\n",
      "Top 5 term frequencies for Document AP890110-0294: [('comput', 5), ('fiber', 4), ('kessler', 4), ('pco', 4), ('percent', 4)]\n",
      "Top 5 term frequencies for Document AP890413-0005: [('blood', 6), ('white', 6), ('wa', 4), ('arteri', 3), ('balloon', 3)]\n",
      "Top 5 term frequencies for Document AP890306-0234: [('grass', 12), ('space', 6), ('materi', 5), ('station', 5), ('care', 4)]\n",
      "------------------------------------------------------------------------------------------------------------------------\n",
      "Top 5 term frequencies for Document AP890821-0078: [('gator', 12), ('allig', 7), ('wa', 7), ('game', 6), ('wildlif', 6)]\n",
      "Top 5 term frequencies for Document AP890308-0040: [('wa', 10), ('agent', 7), ('peopl', 7), ('espinoza', 5), ('wildlif', 5)]\n",
      "Top 5 term frequencies for Document AP890211-0095: [('jackson', 7), ('perregrin', 7), ('ledger', 5), ('eagl', 4), ('feder', 4)]\n",
      "Top 5 term frequencies for Document AP891127-0046: [('egg', 7), ('fine', 5), ('court', 3), ('life', 3), ('turtl', 3)]\n",
      "Top 5 term frequencies for Document AP890722-0056: [('namibia', 6), ('rhino', 5), ('south', 5), ('polic', 4), ('african', 3)]\n"
     ]
    }
   ],
   "source": [
    "from collections import Counter\n",
    "\n",
    "file_path = \"./Deliverables/output_TFIDF_Score.txt\"\n",
    "\n",
    "k = 5\n",
    "\n",
    "with open(file_path, 'r') as file:\n",
    "    ids_to_calculate = [line.split()[2] for line in file if line.startswith(\"95\")][:k]\n",
    "    file.seek(0)\n",
    "    ids_to_calculate += [line.split()[2] for line in file if line.startswith(\"87\")][:k]\n",
    "    file.seek(0)\n",
    "    ids_to_calculate += [line.split()[2] for line in file if line.startswith(\"68\")][:k]\n",
    "    file.seek(0)\n",
    "    ids_to_calculate += [line.split()[2] for line in file if line.startswith(\"97\")][:k]\n",
    "    file.seek(0)\n",
    "    ids_to_calculate += [line.split()[2] for line in file if line.startswith(\"77\")][:k]\n",
    "    \n",
    "\n",
    "\n",
    "def calculate_term_frequency(document_term_vector, top_n):\n",
    "    if not document_term_vector:\n",
    "        return []\n",
    "\n",
    "    term_frequency = {term: info[\"term_freq\"] for term, info in document_term_vector.items()}\n",
    "\n",
    "    term_counter = Counter(term_frequency)\n",
    "\n",
    "    top_terms = term_counter.most_common(top_n)\n",
    "\n",
    "    return top_terms\n",
    "\n",
    "for i, doc_id in enumerate(ids_to_calculate, start=1):\n",
    "    if doc_id in all_document_term_vectors:\n",
    "        term_vector = all_document_term_vectors[doc_id]\n",
    "        top_terms = calculate_term_frequency(term_vector, top_n=k)\n",
    "        print(f\"Top 5 term frequencies for Document {doc_id}: {top_terms}\")\n",
    "    else:\n",
    "        print(f\"Document {doc_id} not found.\")\n",
    "\n",
    "    if i % k == 0 and i != len(ids_to_calculate):\n",
    "        print('-' * 120)"
   ]
  },
  {
   "cell_type": "code",
   "execution_count": 29,
   "id": "34510bf7",
   "metadata": {
    "scrolled": true
   },
   "outputs": [],
   "source": [
    "pr_query_dict = {}\n",
    "def pseudo_relevance_feedback_queries(query_dict):\n",
    "    for query_num, query_text in query_dict.items():\n",
    "        if query_num == 95:\n",
    "            query_text += \" feder fbi viru ncic hacker\"\n",
    "        elif query_num == 87:\n",
    "            query_text += \" feder billion\"\n",
    "        elif query_num == 97:\n",
    "            query_text += \" satellit\"\n",
    "        elif query_num == 68:\n",
    "            query_text += \" asbesto\"\n",
    "        elif query_num == 77:\n",
    "            query_text += \" wa\"\n",
    "            \n",
    "        if not query_text:\n",
    "            continue\n",
    "\n",
    "        print(query_num)\n",
    "        print(query_text)\n",
    "        pr_query_dict[query_num] = query_text\n",
    "    return pr_query_dict"
   ]
  },
  {
   "cell_type": "code",
   "execution_count": 30,
   "id": "7015bb85",
   "metadata": {},
   "outputs": [
    {
     "name": "stdout",
     "output_type": "stream",
     "text": [
      "85\n",
      "corrupt public offici\n",
      "59\n",
      "weather least locat\n",
      "56\n",
      "prime lend rate prime rate\n",
      "71\n",
      "incurs border guerrilla\n",
      "64\n",
      "hostag\n",
      "62\n",
      "coup attempt\n",
      "93\n",
      "nation rifl associ nra\n",
      "99\n",
      "iran contra affair\n",
      "58\n",
      "rail strike rail strike\n",
      "77\n",
      "poach wildlif wa\n",
      "54\n",
      "agreement launch commerci satellit\n",
      "87\n",
      "offic institut feder billion\n",
      "94\n",
      "crime comput\n",
      "100\n",
      "communist transfer technolog nation\n",
      "89\n",
      "invest opec downstream\n",
      "61\n",
      "israel iran contra affair\n",
      "95\n",
      "comput crime feder fbi viru ncic hacker\n",
      "68\n",
      "safeti worker diamet fiber asbesto\n",
      "57\n",
      "mci\n",
      "97\n",
      "fiber optic technolog satellit\n",
      "98\n",
      "fiber optic\n",
      "60\n",
      "salari incent pay pay\n",
      "80\n",
      "1988 presidenti\n",
      "63\n",
      "translat\n",
      "91\n",
      "weapon\n"
     ]
    }
   ],
   "source": [
    "pr_query_dict = pseudo_relevance_feedback_queries(query_dict)"
   ]
  },
  {
   "cell_type": "markdown",
   "id": "ef5b082f",
   "metadata": {},
   "source": [
    "# Pseudo-relevance Feedback ES Builtin"
   ]
  },
  {
   "cell_type": "code",
   "execution_count": 31,
   "id": "61cb531b",
   "metadata": {},
   "outputs": [
    {
     "name": "stdout",
     "output_type": "stream",
     "text": [
      "85\n",
      "corrupt public offici\n",
      "59\n",
      "weather least locat\n",
      "56\n",
      "prime lend rate prime rate\n",
      "71\n",
      "incurs border guerrilla\n",
      "64\n",
      "hostag\n",
      "62\n",
      "coup attempt\n",
      "93\n",
      "nation rifl associ nra\n",
      "99\n",
      "iran contra affair\n",
      "58\n",
      "rail strike rail strike\n",
      "77\n",
      "poach wildlif wa\n",
      "54\n",
      "agreement launch commerci satellit\n",
      "87\n",
      "offic institut feder billion\n",
      "94\n",
      "crime comput\n",
      "100\n",
      "communist transfer technolog nation\n",
      "89\n",
      "invest opec downstream\n",
      "61\n",
      "israel iran contra affair\n",
      "95\n",
      "comput crime feder fbi viru ncic hacker\n",
      "68\n",
      "safeti worker diamet fiber asbesto\n",
      "57\n",
      "mci\n",
      "97\n",
      "fiber optic technolog satellit\n",
      "98\n",
      "fiber optic\n",
      "60\n",
      "salari incent pay pay\n",
      "80\n",
      "1988 presidenti\n",
      "63\n",
      "translat\n",
      "91\n",
      "weapon\n",
      "Queries executed successfully.\n"
     ]
    }
   ],
   "source": [
    "run_queries_and_write_results_esbuiltin(\"./Deliverables/output_ES_builtin_PR.txt\", pr_query_dict)\n",
    "\n",
    "print(\"Queries executed successfully.\")"
   ]
  },
  {
   "cell_type": "markdown",
   "id": "ee087cf7",
   "metadata": {},
   "source": [
    "# Pseudo-relevance Feedback Okapi TF"
   ]
  },
  {
   "cell_type": "code",
   "execution_count": 32,
   "id": "833fe883",
   "metadata": {
    "scrolled": true
   },
   "outputs": [
    {
     "name": "stdout",
     "output_type": "stream",
     "text": [
      "Processing Query 85: corrupt public offici\n",
      "Processing Query 59: weather least locat\n",
      "Processing Query 56: prime lend rate prime rate\n",
      "Processing Query 71: incurs border guerrilla\n",
      "Processing Query 64: hostag\n",
      "Processing Query 62: coup attempt\n",
      "Processing Query 93: nation rifl associ nra\n",
      "Processing Query 99: iran contra affair\n",
      "Processing Query 58: rail strike rail strike\n",
      "Processing Query 77: poach wildlif wa\n",
      "Processing Query 54: agreement launch commerci satellit\n",
      "Processing Query 87: offic institut feder billion\n",
      "Processing Query 94: crime comput\n",
      "Processing Query 100: communist transfer technolog nation\n",
      "Processing Query 89: invest opec downstream\n",
      "Processing Query 61: israel iran contra affair\n",
      "Processing Query 95: comput crime feder fbi viru ncic hacker\n",
      "Processing Query 68: safeti worker diamet fiber asbesto\n",
      "Processing Query 57: mci\n",
      "Processing Query 97: fiber optic technolog satellit\n",
      "Processing Query 98: fiber optic\n",
      "Processing Query 60: salari incent pay pay\n",
      "Processing Query 80: 1988 presidenti\n",
      "Processing Query 63: translat\n",
      "Processing Query 91: weapon\n",
      "Queries executed successfully.\n"
     ]
    }
   ],
   "source": [
    "output_file_path = \"./Deliverables/output_okapiTF_Score_PR.txt\"\n",
    "run_queries_and_write_results_okapitf(output_file_path, pr_query_dict)\n",
    "print(\"Queries executed successfully.\")"
   ]
  },
  {
   "cell_type": "markdown",
   "id": "68ce85a6",
   "metadata": {},
   "source": [
    "# Pseudo-relevance Feedback Okapi TF-IDF"
   ]
  },
  {
   "cell_type": "code",
   "execution_count": 33,
   "id": "046945b6",
   "metadata": {
    "scrolled": true
   },
   "outputs": [
    {
     "name": "stdout",
     "output_type": "stream",
     "text": [
      "Processing Query 85: corrupt public offici\n",
      "Processing Query 59: weather least locat\n",
      "Processing Query 56: prime lend rate prime rate\n",
      "Processing Query 71: incurs border guerrilla\n",
      "Processing Query 64: hostag\n",
      "Processing Query 62: coup attempt\n",
      "Processing Query 93: nation rifl associ nra\n",
      "Processing Query 99: iran contra affair\n",
      "Processing Query 58: rail strike rail strike\n",
      "Processing Query 77: poach wildlif wa\n",
      "Processing Query 54: agreement launch commerci satellit\n",
      "Processing Query 87: offic institut feder billion\n",
      "Processing Query 94: crime comput\n",
      "Processing Query 100: communist transfer technolog nation\n",
      "Processing Query 89: invest opec downstream\n",
      "Processing Query 61: israel iran contra affair\n",
      "Processing Query 95: comput crime feder fbi viru ncic hacker\n",
      "Processing Query 68: safeti worker diamet fiber asbesto\n",
      "Processing Query 57: mci\n",
      "Processing Query 97: fiber optic technolog satellit\n",
      "Processing Query 98: fiber optic\n",
      "Processing Query 60: salari incent pay pay\n",
      "Processing Query 80: 1988 presidenti\n",
      "Processing Query 63: translat\n",
      "Processing Query 91: weapon\n",
      "Queries executed successfully.\n"
     ]
    }
   ],
   "source": [
    "output_file_path = \"./Deliverables/output_TFIDF_Score_PR.txt\"\n",
    "run_queries_and_write_results_tfidf(output_file_path, pr_query_dict)\n",
    "print(\"Queries executed successfully.\")"
   ]
  },
  {
   "cell_type": "markdown",
   "id": "08061cf9",
   "metadata": {},
   "source": [
    "# Pseudo-relevance Feedback BM25"
   ]
  },
  {
   "cell_type": "code",
   "execution_count": 34,
   "id": "f78eb4d8",
   "metadata": {},
   "outputs": [
    {
     "name": "stdout",
     "output_type": "stream",
     "text": [
      "Processing Query 85: corrupt public offici\n",
      "Processing Query 59: weather least locat\n",
      "Processing Query 56: prime lend rate prime rate\n",
      "Processing Query 71: incurs border guerrilla\n",
      "Processing Query 64: hostag\n",
      "Processing Query 62: coup attempt\n",
      "Processing Query 93: nation rifl associ nra\n",
      "Processing Query 99: iran contra affair\n",
      "Processing Query 58: rail strike rail strike\n",
      "Processing Query 77: poach wildlif wa\n",
      "Processing Query 54: agreement launch commerci satellit\n",
      "Processing Query 87: offic institut feder billion\n",
      "Processing Query 94: crime comput\n",
      "Processing Query 100: communist transfer technolog nation\n",
      "Processing Query 89: invest opec downstream\n",
      "Processing Query 61: israel iran contra affair\n",
      "Processing Query 95: comput crime feder fbi viru ncic hacker\n",
      "Processing Query 68: safeti worker diamet fiber asbesto\n",
      "Processing Query 57: mci\n",
      "Processing Query 97: fiber optic technolog satellit\n",
      "Processing Query 98: fiber optic\n",
      "Processing Query 60: salari incent pay pay\n",
      "Processing Query 80: 1988 presidenti\n",
      "Processing Query 63: translat\n",
      "Processing Query 91: weapon\n",
      "Queries executed successfully.\n"
     ]
    }
   ],
   "source": [
    "output_file_path = \"./Deliverables/output_BM25_Score_PR.txt\"\n",
    "run_queries_and_write_results_bm25(output_file_path, pr_query_dict)\n",
    "print(\"Queries executed successfully.\")"
   ]
  },
  {
   "cell_type": "markdown",
   "id": "82e5b825",
   "metadata": {},
   "source": [
    "# Pseudo-relevance Feedback Unigram LM with Laplace smoothing"
   ]
  },
  {
   "cell_type": "code",
   "execution_count": 36,
   "id": "4332001a",
   "metadata": {},
   "outputs": [
    {
     "name": "stdout",
     "output_type": "stream",
     "text": [
      "Processing Query 85: corrupt public offici\n",
      "Processing Query 59: weather least locat\n",
      "Processing Query 56: prime lend rate prime rate\n",
      "Processing Query 71: incurs border guerrilla\n",
      "Processing Query 64: hostag\n",
      "Processing Query 62: coup attempt\n",
      "Processing Query 93: nation rifl associ nra\n",
      "Processing Query 99: iran contra affair\n",
      "Processing Query 58: rail strike rail strike\n",
      "Processing Query 77: poach wildlif wa\n",
      "Processing Query 54: agreement launch commerci satellit\n",
      "Processing Query 87: offic institut feder billion\n",
      "Processing Query 94: crime comput\n",
      "Processing Query 100: communist transfer technolog nation\n",
      "Processing Query 89: invest opec downstream\n",
      "Processing Query 61: israel iran contra affair\n",
      "Processing Query 95: comput crime feder fbi viru ncic hacker\n",
      "Processing Query 68: safeti worker diamet fiber asbesto\n",
      "Processing Query 57: mci\n",
      "Processing Query 97: fiber optic technolog satellit\n",
      "Processing Query 98: fiber optic\n",
      "Processing Query 60: salari incent pay pay\n",
      "Processing Query 80: 1988 presidenti\n",
      "Processing Query 63: translat\n",
      "Processing Query 91: weapon\n",
      "Queries executed successfully.\n"
     ]
    }
   ],
   "source": [
    "output_file_path = \"./Deliverables/output_UnigramLaplace_Score_PR.txt\"\n",
    "run_queries_and_write_results_laplace(output_file_path, pr_query_dict, total_unique_terms)\n",
    "print(\"Queries executed successfully.\")"
   ]
  },
  {
   "cell_type": "markdown",
   "id": "771997b9",
   "metadata": {},
   "source": [
    "# Pseudo-relevance Feedback Unigram LM with Jelinek-Mercer smoothing"
   ]
  },
  {
   "cell_type": "code",
   "execution_count": 37,
   "id": "ab15f562",
   "metadata": {},
   "outputs": [
    {
     "name": "stdout",
     "output_type": "stream",
     "text": [
      "Processing Query 85: corrupt public offici\n",
      "Processing Query 59: weather least locat\n",
      "Processing Query 56: prime lend rate prime rate\n",
      "Processing Query 71: incurs border guerrilla\n",
      "Processing Query 64: hostag\n",
      "Processing Query 62: coup attempt\n",
      "Processing Query 93: nation rifl associ nra\n",
      "Processing Query 99: iran contra affair\n",
      "Processing Query 58: rail strike rail strike\n",
      "Processing Query 77: poach wildlif wa\n",
      "Processing Query 54: agreement launch commerci satellit\n",
      "Processing Query 87: offic institut feder billion\n",
      "Processing Query 94: crime comput\n",
      "Processing Query 100: communist transfer technolog nation\n",
      "Processing Query 89: invest opec downstream\n",
      "Processing Query 61: israel iran contra affair\n",
      "Processing Query 95: comput crime feder fbi viru ncic hacker\n",
      "Processing Query 68: safeti worker diamet fiber asbesto\n",
      "Processing Query 57: mci\n",
      "Processing Query 97: fiber optic technolog satellit\n",
      "Processing Query 98: fiber optic\n",
      "Processing Query 60: salari incent pay pay\n",
      "Processing Query 80: 1988 presidenti\n",
      "Processing Query 63: translat\n",
      "Processing Query 91: weapon\n",
      "{'corrupt': 1856, 'public': 23607, 'offici': 55742, 'weather': 5234, 'least': 15009, 'locat': 2813, 'prime': 17904, 'lend': 1236, 'rate': 41518, 'incurs': 96, 'border': 7365, 'guerrilla': 8117, 'hostag': 3163, 'coup': 2796, 'attempt': 9396, 'nation': 119498, 'rifl': 1444, 'associ': 13529, 'nra': 178, 'iran': 12368, 'contra': 6786, 'affair': 8720, 'rail': 2634, 'strike': 24404, 'poach': 95, 'wildlif': 1371, 'wa': 291835, 'agreement': 13303, 'launch': 5849, 'commerci': 5105, 'satellit': 3844, 'offic': 27581, 'institut': 7384, 'feder': 68412, 'billion': 33320, 'crime': 10302, 'comput': 12376, 'communist': 14499, 'transfer': 2882, 'technolog': 6838, 'invest': 7630, 'opec': 990, 'downstream': 110, 'israel': 10380, 'fbi': 4239, 'viru': 1286, 'ncic': 6, 'hacker': 163, 'safeti': 5622, 'worker': 13771, 'diamet': 162, 'fiber': 1173, 'asbesto': 378, 'mci': 277, 'optic': 304, 'salari': 2054, 'incent': 1431, 'pay': 31956, '1988': 16708, 'presidenti': 6111, 'translat': 925, 'weapon': 8321}\n",
      "{'corrupt': 1856, 'public': 23607, 'offici': 55742, 'weather': 5234, 'least': 15009, 'locat': 2813, 'prime': 17904, 'lend': 1236, 'rate': 41518, 'incurs': 96, 'border': 7365, 'guerrilla': 8117, 'hostag': 3163, 'coup': 2796, 'attempt': 9396, 'nation': 119498, 'rifl': 1444, 'associ': 13529, 'nra': 178, 'iran': 12368, 'contra': 6786, 'affair': 8720, 'rail': 2634, 'strike': 24404, 'poach': 95, 'wildlif': 1371, 'wa': 291835, 'agreement': 13303, 'launch': 5849, 'commerci': 5105, 'satellit': 3844, 'offic': 27581, 'institut': 7384, 'feder': 68412, 'billion': 33320, 'crime': 10302, 'comput': 12376, 'communist': 14499, 'transfer': 2882, 'technolog': 6838, 'invest': 7630, 'opec': 990, 'downstream': 110, 'israel': 10380, 'fbi': 4239, 'viru': 1286, 'ncic': 6, 'hacker': 163, 'safeti': 5622, 'worker': 13771, 'diamet': 162, 'fiber': 1173, 'asbesto': 378, 'mci': 277, 'optic': 304, 'salari': 2054, 'incent': 1431, 'pay': 31956, '1988': 16708, 'presidenti': 6111, 'translat': 925, 'weapon': 8321}\n"
     ]
    }
   ],
   "source": [
    "def get_query_terms_pr(pr_query_dict):\n",
    "    all_query_terms=[]\n",
    "    for query_num, query_text in pr_query_dict.items():\n",
    "        print(f\"Processing Query {query_num}: {query_text}\")\n",
    "        all_query_terms += query_text.split()\n",
    "            \n",
    "    term_freq_in_corpus = calculate_term_freq_in_corpus(all_document_term_vectors, all_query_terms)\n",
    "    print(term_freq_in_corpus)\n",
    "    return term_freq_in_corpus\n",
    "\n",
    "term_freq_in_corpus = get_query_terms_pr(pr_query_dict)"
   ]
  },
  {
   "cell_type": "code",
   "execution_count": 38,
   "id": "7b84ddc5",
   "metadata": {},
   "outputs": [
    {
     "name": "stdout",
     "output_type": "stream",
     "text": [
      "Processing Query 85: corrupt public offici\n",
      "Processing Query 59: weather least locat\n",
      "Processing Query 56: prime lend rate prime rate\n",
      "Processing Query 71: incurs border guerrilla\n",
      "Processing Query 64: hostag\n",
      "Processing Query 62: coup attempt\n",
      "Processing Query 93: nation rifl associ nra\n",
      "Processing Query 99: iran contra affair\n",
      "Processing Query 58: rail strike rail strike\n",
      "Processing Query 77: poach wildlif wa\n",
      "Processing Query 54: agreement launch commerci satellit\n",
      "Processing Query 87: offic institut feder billion\n",
      "Processing Query 94: crime comput\n",
      "Processing Query 100: communist transfer technolog nation\n",
      "Processing Query 89: invest opec downstream\n",
      "Processing Query 61: israel iran contra affair\n",
      "Processing Query 95: comput crime feder fbi viru ncic hacker\n",
      "Processing Query 68: safeti worker diamet fiber asbesto\n",
      "Processing Query 57: mci\n",
      "Processing Query 97: fiber optic technolog satellit\n",
      "Processing Query 98: fiber optic\n",
      "Processing Query 60: salari incent pay pay\n",
      "Processing Query 80: 1988 presidenti\n",
      "Processing Query 63: translat\n",
      "Processing Query 91: weapon\n",
      "Queries executed successfully.\n"
     ]
    }
   ],
   "source": [
    "output_file_path_jm = \"./Deliverables/output_UnigramJM_Score_PR.txt\"\n",
    "lambda_value = 0.8  \n",
    "run_queries_and_write_results_jm(output_file_path_jm, pr_query_dict, lambda_value)\n",
    "print(\"Queries executed successfully.\")"
   ]
  },
  {
   "cell_type": "markdown",
   "id": "6fabefe9",
   "metadata": {},
   "source": [
    "# Pseudo-relevance Feedback using ElasticSearch aggs \"significant terms\""
   ]
  },
  {
   "cell_type": "code",
   "execution_count": 171,
   "id": "3166f44e",
   "metadata": {},
   "outputs": [
    {
     "name": "stderr",
     "output_type": "stream",
     "text": [
      "C:\\Users\\Pramatha\\AppData\\Local\\Temp\\ipykernel_4700\\619109251.py:28: DeprecationWarning: The 'body' parameter is deprecated for the 'search' API and will be removed in a future version. Instead use API parameters directly. See https://github.com/elastic/elasticsearch-py/issues/1698 for more information\n",
      "  response = es.search(index=index_name, body=es_query)\n"
     ]
    },
    {
     "name": "stdout",
     "output_type": "stream",
     "text": [
      "Query 85: ['corruption', 'racket', 'bribe', 'anticorrupt', 'fraud']\n",
      "Query 59: ['forecast', 'temperatur', 'rain', 'wind', 'snow']\n",
      "Query 56: ['minist', 'loan', 'bank', 'loans', '2122396200']\n",
      "Query 71: ['swapo', 'incursion', 'thornberry', 'africanl', 'namibia']\n",
      "Query 64: ['hostages', 'lebanon', 'proiranian', 'shiit', 'kidnap']\n",
      "Query 62: ['gen', 'stroessner', 'militari', 'oust', 'pinochet']\n",
      "Query 93: ['lapierre', 'ar15', 'assaultstyl', 'largecapac', 'guncontrol']\n",
      "Query 99: ['nicaraguan', 'contras', 'nicaragua', 'sandinista', 'hondura']\n",
      "Query 58: ['railroad', 'railway', 'amtrak', 'freight', 'locomot']\n",
      "Query 77: ['poacher', 'tusk', 'poaching', 'antipoach', 'poachers']\n",
      "Query 54: ['satellite', 'satellites', 'payload', 'orbit', 'nasa']\n",
      "Query 87: ['research', 'institute', 'thrift', 'institutions', 'deposit']\n",
      "Query 94: ['softwar', 'computers', 'computer', 'ibm', 'electron']\n",
      "Query 100: ['parti', 'technology', 'reform', 'soviet', 'politburo']\n",
      "Query 89: ['intermediate', '13nation', 'barrel', 'petroleum', 'benchmark']\n",
      "Query 61: ['nicaraguan', 'contras', 'nicaragua', 'sandinista', 'hondura']\n",
      "Query 95: ['softwar', 'computers', 'computer', 'ibm', 'electron']\n",
      "Query 68: ['optic', 'fibers', 'lycra', 'metamucil', 'n2']\n",
      "Query 57: ['longdist', 'sprint', 'mitnick', 'atampt', '26209point']\n",
      "Query 97: ['hairthin', 'spacemad', 'resolidifi', 'fibers', 'telescope']\n",
      "Query 98: ['hairthin', 'spacemad', 'resolidifi', 'fibers', 'telescope']\n",
      "Query 60: ['89500', 'rebat', 'incentives', 'honoraria', 'automak']\n",
      "Query 80: ['candid', 'presid', 'bush', 'elect', 'candidate']\n",
      "Query 63: ['english', 'languages', 'translation', 'text', 'rozovskaya']\n",
      "Query 91: ['weapons', 'nuclear', 'arm', 'missil', 'missiles']\n",
      "Query 85: corrupt public offici\n",
      "Query 59: weather least locat forecast temperatur rain wind snow\n",
      "Query 56: prime lend rate prime rate\n",
      "Query 71: incurs border guerrilla\n",
      "Query 64: hostag hostages lebanon proiranian shiit kidnap\n",
      "Query 62: coup attempt\n",
      "Query 93: nation rifl associ nra\n",
      "Query 99: iran contra affair\n",
      "Query 58: rail strike rail strike\n",
      "Query 77: poach wildlif poacher tusk poaching antipoach poachers\n",
      "Query 54: agreement launch commerci satellit\n",
      "Query 87: offic institut research institute thrift institutions deposit\n",
      "Query 94: crime comput\n",
      "Query 100: communist transfer technolog nation\n",
      "Query 89: invest opec downstream\n",
      "Query 61: israel iran contra affair\n",
      "Query 95: comput crime\n",
      "Query 68: safeti worker diamet fiber\n",
      "Query 57: mci\n",
      "Query 97: fiber optic technolog hairthin spacemad resolidifi fibers telescope\n",
      "Query 98: fiber optic hairthin spacemad resolidifi fibers telescope\n",
      "Query 60: salari incent pay pay\n",
      "Query 80: 1988 presidenti\n",
      "Query 63: translat english languages translation text rozovskaya\n",
      "Query 91: weapon weapons nuclear arm missil missiles\n"
     ]
    }
   ],
   "source": [
    "from collections import defaultdict\n",
    "\n",
    "query_significant_terms_score = defaultdict(list)\n",
    "\n",
    "# modify the queries with following query number\n",
    "modify_query = [59, 64, 77, 87, 97, 98, 63, 91]\n",
    "\n",
    "for query_id, query_data in query_dict.items():\n",
    "    query_string = query_data\n",
    "    current_query_terms = query_string.split()\n",
    "    result = []\n",
    "    existing_terms = set()\n",
    "    \n",
    "    for term in current_query_terms:\n",
    "        es_query = {\n",
    "            \"query\": {\n",
    "                \"terms\": {\"content\": [term]}\n",
    "            },\n",
    "            \"aggregations\": {\n",
    "                \"significantCrimeTypes\": {\n",
    "                    \"significant_terms\": {\n",
    "                        \"field\": \"content\"\n",
    "                    }\n",
    "                }\n",
    "            },\n",
    "            \"size\": 0\n",
    "        }\n",
    "\n",
    "        response = es.search(index=index_name, body=es_query)\n",
    "\n",
    "        result.extend(\n",
    "            bucket\n",
    "            for bucket in response[\"aggregations\"][\"significantCrimeTypes\"][\"buckets\"]\n",
    "            if bucket[\"key\"] not in current_query_terms and bucket[\"key\"] not in existing_terms\n",
    "        )\n",
    "        existing_terms.update(bucket[\"key\"] for bucket in result)\n",
    "\n",
    "    sorted_terms_by_score = sorted(result, key=lambda x: x[\"score\"], reverse=True)\n",
    "\n",
    "    query_significant_terms_score[query_id] = [(term_info[\"key\"], term_info[\"score\"]) for term_info in sorted_terms_by_score[:5]]\n",
    "\n",
    "pr_es_query_terms_score = {}\n",
    "\n",
    "for query_id, significant_terms_score in query_significant_terms_score.items():\n",
    "    pr_es_query_terms_score[query_id] = [term[0] for term in significant_terms_score]\n",
    "\n",
    "for query_id, significant_terms in pr_es_query_terms_score.items():\n",
    "    print(f\"Query {query_id}: {significant_terms}\")\n",
    "\n",
    "pr_es_query_dict = {}\n",
    "\n",
    "for query_id, significant_terms_score in query_significant_terms_score.items():\n",
    "    query_string = query_dict[query_id]\n",
    "    if query_id not in modify_query:\n",
    "        pr_es_query_dict[query_id] = query_string\n",
    "    else:\n",
    "        significant_terms_strings = [term[0] for term in significant_terms_score]\n",
    "        merged_terms = query_string.split() + significant_terms_strings\n",
    "        merged_terms_string = \" \".join(merged_terms)\n",
    "        pr_es_query_dict[query_id] = merged_terms_string\n",
    "\n",
    "for query_id, query_string in pr_es_query_dict.items():\n",
    "    print(f\"Query {query_id}: {query_string}\")\n"
   ]
  },
  {
   "cell_type": "markdown",
   "id": "8333b8df",
   "metadata": {},
   "source": [
    "# Pseudo-relevance Feedback ES Builtin with ES significant terms"
   ]
  },
  {
   "cell_type": "code",
   "execution_count": 172,
   "id": "d9ac0b48",
   "metadata": {},
   "outputs": [
    {
     "name": "stdout",
     "output_type": "stream",
     "text": [
      "85\n",
      "corrupt public offici\n",
      "59\n",
      "weather least locat forecast temperatur rain wind snow\n",
      "56\n",
      "prime lend rate prime rate\n",
      "71\n",
      "incurs border guerrilla\n",
      "64\n",
      "hostag hostages lebanon proiranian shiit kidnap\n",
      "62\n",
      "coup attempt\n",
      "93\n",
      "nation rifl associ nra\n",
      "99\n",
      "iran contra affair\n",
      "58\n",
      "rail strike rail strike\n",
      "77\n",
      "poach wildlif poacher tusk poaching antipoach poachers\n",
      "54\n",
      "agreement launch commerci satellit\n",
      "87\n",
      "offic institut research institute thrift institutions deposit\n",
      "94\n",
      "crime comput\n",
      "100\n",
      "communist transfer technolog nation\n",
      "89\n",
      "invest opec downstream\n",
      "61\n",
      "israel iran contra affair\n",
      "95\n",
      "comput crime\n",
      "68\n",
      "safeti worker diamet fiber\n",
      "57\n",
      "mci\n",
      "97\n",
      "fiber optic technolog hairthin spacemad resolidifi fibers telescope\n",
      "98\n",
      "fiber optic hairthin spacemad resolidifi fibers telescope\n",
      "60\n",
      "salari incent pay pay\n",
      "80\n",
      "1988 presidenti\n",
      "63\n",
      "translat english languages translation text rozovskaya\n",
      "91\n",
      "weapon weapons nuclear arm missil missiles\n",
      "Queries executed successfully.\n"
     ]
    }
   ],
   "source": [
    "run_queries_and_write_results_esbuiltin(\"./Deliverables/output_ES_builtin_PR_ES.txt\", pr_es_query_dict)\n",
    "\n",
    "print(\"Queries executed successfully.\")"
   ]
  },
  {
   "cell_type": "markdown",
   "id": "db34715e",
   "metadata": {},
   "source": [
    "# Pseudo-relevance Feedback Okapi TF with ES significant terms"
   ]
  },
  {
   "cell_type": "code",
   "execution_count": 173,
   "id": "1e96f29d",
   "metadata": {},
   "outputs": [
    {
     "name": "stdout",
     "output_type": "stream",
     "text": [
      "Processing Query 85: corrupt public offici\n",
      "Processing Query 59: weather least locat forecast temperatur rain wind snow\n",
      "Processing Query 56: prime lend rate prime rate\n",
      "Processing Query 71: incurs border guerrilla\n",
      "Processing Query 64: hostag hostages lebanon proiranian shiit kidnap\n",
      "Processing Query 62: coup attempt\n",
      "Processing Query 93: nation rifl associ nra\n",
      "Processing Query 99: iran contra affair\n",
      "Processing Query 58: rail strike rail strike\n",
      "Processing Query 77: poach wildlif poacher tusk poaching antipoach poachers\n",
      "Processing Query 54: agreement launch commerci satellit\n",
      "Processing Query 87: offic institut research institute thrift institutions deposit\n",
      "Processing Query 94: crime comput\n",
      "Processing Query 100: communist transfer technolog nation\n",
      "Processing Query 89: invest opec downstream\n",
      "Processing Query 61: israel iran contra affair\n",
      "Processing Query 95: comput crime\n",
      "Processing Query 68: safeti worker diamet fiber\n",
      "Processing Query 57: mci\n",
      "Processing Query 97: fiber optic technolog hairthin spacemad resolidifi fibers telescope\n",
      "Processing Query 98: fiber optic hairthin spacemad resolidifi fibers telescope\n",
      "Processing Query 60: salari incent pay pay\n",
      "Processing Query 80: 1988 presidenti\n",
      "Processing Query 63: translat english languages translation text rozovskaya\n",
      "Processing Query 91: weapon weapons nuclear arm missil missiles\n",
      "Queries executed successfully.\n"
     ]
    }
   ],
   "source": [
    "output_file_path = \"./Deliverables/output_okapiTF_Score_PR_ES.txt\"\n",
    "run_queries_and_write_results_okapitf(output_file_path, pr_es_query_dict)\n",
    "print(\"Queries executed successfully.\")"
   ]
  },
  {
   "cell_type": "markdown",
   "id": "b11701f4",
   "metadata": {},
   "source": [
    "# Pseudo-relevance Feedback TF-IDF with ES significant terms"
   ]
  },
  {
   "cell_type": "code",
   "execution_count": 174,
   "id": "2b7f1dc8",
   "metadata": {},
   "outputs": [
    {
     "name": "stdout",
     "output_type": "stream",
     "text": [
      "Processing Query 85: corrupt public offici\n",
      "Processing Query 59: weather least locat forecast temperatur rain wind snow\n",
      "Processing Query 56: prime lend rate prime rate\n",
      "Processing Query 71: incurs border guerrilla\n",
      "Processing Query 64: hostag hostages lebanon proiranian shiit kidnap\n",
      "Processing Query 62: coup attempt\n",
      "Processing Query 93: nation rifl associ nra\n",
      "Processing Query 99: iran contra affair\n",
      "Processing Query 58: rail strike rail strike\n",
      "Processing Query 77: poach wildlif poacher tusk poaching antipoach poachers\n",
      "Processing Query 54: agreement launch commerci satellit\n",
      "Processing Query 87: offic institut research institute thrift institutions deposit\n",
      "Processing Query 94: crime comput\n",
      "Processing Query 100: communist transfer technolog nation\n",
      "Processing Query 89: invest opec downstream\n",
      "Processing Query 61: israel iran contra affair\n",
      "Processing Query 95: comput crime\n",
      "Processing Query 68: safeti worker diamet fiber\n",
      "Processing Query 57: mci\n",
      "Processing Query 97: fiber optic technolog hairthin spacemad resolidifi fibers telescope\n",
      "Processing Query 98: fiber optic hairthin spacemad resolidifi fibers telescope\n",
      "Processing Query 60: salari incent pay pay\n",
      "Processing Query 80: 1988 presidenti\n",
      "Processing Query 63: translat english languages translation text rozovskaya\n",
      "Processing Query 91: weapon weapons nuclear arm missil missiles\n",
      "Queries executed successfully.\n"
     ]
    }
   ],
   "source": [
    "output_file_path = \"./Deliverables/output_TFIDF_Score_PR_ES.txt\"\n",
    "run_queries_and_write_results_tfidf(output_file_path, pr_es_query_dict)\n",
    "print(\"Queries executed successfully.\")"
   ]
  },
  {
   "cell_type": "markdown",
   "id": "76fea076",
   "metadata": {},
   "source": [
    "# Pseudo-relevance Feedback BM25 with ES significant terms"
   ]
  },
  {
   "cell_type": "code",
   "execution_count": 175,
   "id": "16ae6791",
   "metadata": {},
   "outputs": [
    {
     "name": "stdout",
     "output_type": "stream",
     "text": [
      "Processing Query 85: corrupt public offici\n",
      "Processing Query 59: weather least locat forecast temperatur rain wind snow\n",
      "Processing Query 56: prime lend rate prime rate\n",
      "Processing Query 71: incurs border guerrilla\n",
      "Processing Query 64: hostag hostages lebanon proiranian shiit kidnap\n",
      "Processing Query 62: coup attempt\n",
      "Processing Query 93: nation rifl associ nra\n",
      "Processing Query 99: iran contra affair\n",
      "Processing Query 58: rail strike rail strike\n",
      "Processing Query 77: poach wildlif poacher tusk poaching antipoach poachers\n",
      "Processing Query 54: agreement launch commerci satellit\n",
      "Processing Query 87: offic institut research institute thrift institutions deposit\n",
      "Processing Query 94: crime comput\n",
      "Processing Query 100: communist transfer technolog nation\n",
      "Processing Query 89: invest opec downstream\n",
      "Processing Query 61: israel iran contra affair\n",
      "Processing Query 95: comput crime\n",
      "Processing Query 68: safeti worker diamet fiber\n",
      "Processing Query 57: mci\n",
      "Processing Query 97: fiber optic technolog hairthin spacemad resolidifi fibers telescope\n",
      "Processing Query 98: fiber optic hairthin spacemad resolidifi fibers telescope\n",
      "Processing Query 60: salari incent pay pay\n",
      "Processing Query 80: 1988 presidenti\n",
      "Processing Query 63: translat english languages translation text rozovskaya\n",
      "Processing Query 91: weapon weapons nuclear arm missil missiles\n",
      "Queries executed successfully.\n"
     ]
    }
   ],
   "source": [
    "output_file_path = \"./Deliverables/output_BM25_Score_PR_ES.txt\"\n",
    "run_queries_and_write_results_bm25(output_file_path, pr_es_query_dict)\n",
    "print(\"Queries executed successfully.\")"
   ]
  },
  {
   "cell_type": "markdown",
   "id": "fad5d78e",
   "metadata": {},
   "source": [
    "# Pseudo-relevance Feedback Unigram Laplace with ES significant terms"
   ]
  },
  {
   "cell_type": "code",
   "execution_count": 176,
   "id": "302e12fc",
   "metadata": {},
   "outputs": [
    {
     "name": "stdout",
     "output_type": "stream",
     "text": [
      "Processing Query 85: corrupt public offici\n",
      "Processing Query 59: weather least locat forecast temperatur rain wind snow\n",
      "Processing Query 56: prime lend rate prime rate\n",
      "Processing Query 71: incurs border guerrilla\n",
      "Processing Query 64: hostag hostages lebanon proiranian shiit kidnap\n",
      "Processing Query 62: coup attempt\n",
      "Processing Query 93: nation rifl associ nra\n",
      "Processing Query 99: iran contra affair\n",
      "Processing Query 58: rail strike rail strike\n",
      "Processing Query 77: poach wildlif poacher tusk poaching antipoach poachers\n",
      "Processing Query 54: agreement launch commerci satellit\n",
      "Processing Query 87: offic institut research institute thrift institutions deposit\n",
      "Processing Query 94: crime comput\n",
      "Processing Query 100: communist transfer technolog nation\n",
      "Processing Query 89: invest opec downstream\n",
      "Processing Query 61: israel iran contra affair\n",
      "Processing Query 95: comput crime\n",
      "Processing Query 68: safeti worker diamet fiber\n",
      "Processing Query 57: mci\n",
      "Processing Query 97: fiber optic technolog hairthin spacemad resolidifi fibers telescope\n",
      "Processing Query 98: fiber optic hairthin spacemad resolidifi fibers telescope\n",
      "Processing Query 60: salari incent pay pay\n",
      "Processing Query 80: 1988 presidenti\n",
      "Processing Query 63: translat english languages translation text rozovskaya\n",
      "Processing Query 91: weapon weapons nuclear arm missil missiles\n",
      "Queries executed successfully.\n"
     ]
    }
   ],
   "source": [
    "output_file_path = \"./Deliverables/output_UnigramLaplace_Score_PR_ES.txt\"\n",
    "run_queries_and_write_results_laplace(output_file_path, pr_es_query_dict, total_unique_terms)\n",
    "print(\"Queries executed successfully.\")"
   ]
  },
  {
   "cell_type": "markdown",
   "id": "aa7dbdd2",
   "metadata": {},
   "source": [
    "# Pseudo-relevance Feedback Unigram JM with ES significant terms"
   ]
  },
  {
   "cell_type": "code",
   "execution_count": 177,
   "id": "bad65d38",
   "metadata": {},
   "outputs": [
    {
     "name": "stdout",
     "output_type": "stream",
     "text": [
      "Processing Query 85: corrupt public offici\n",
      "Processing Query 59: weather least locat forecast temperatur rain wind snow\n",
      "Processing Query 56: prime lend rate prime rate\n",
      "Processing Query 71: incurs border guerrilla\n",
      "Processing Query 64: hostag hostages lebanon proiranian shiit kidnap\n",
      "Processing Query 62: coup attempt\n",
      "Processing Query 93: nation rifl associ nra\n",
      "Processing Query 99: iran contra affair\n",
      "Processing Query 58: rail strike rail strike\n",
      "Processing Query 77: poach wildlif poacher tusk poaching antipoach poachers\n",
      "Processing Query 54: agreement launch commerci satellit\n",
      "Processing Query 87: offic institut research institute thrift institutions deposit\n",
      "Processing Query 94: crime comput\n",
      "Processing Query 100: communist transfer technolog nation\n",
      "Processing Query 89: invest opec downstream\n",
      "Processing Query 61: israel iran contra affair\n",
      "Processing Query 95: comput crime\n",
      "Processing Query 68: safeti worker diamet fiber\n",
      "Processing Query 57: mci\n",
      "Processing Query 97: fiber optic technolog hairthin spacemad resolidifi fibers telescope\n",
      "Processing Query 98: fiber optic hairthin spacemad resolidifi fibers telescope\n",
      "Processing Query 60: salari incent pay pay\n",
      "Processing Query 80: 1988 presidenti\n",
      "Processing Query 63: translat english languages translation text rozovskaya\n",
      "Processing Query 91: weapon weapons nuclear arm missil missiles\n",
      "{'corrupt': 1856, 'public': 23607, 'offici': 55742, 'weather': 5234, 'least': 15009, 'locat': 2813, 'forecast': 3799, 'temperatur': 3605, 'rain': 6349, 'wind': 4753, 'snow': 4138, 'prime': 17904, 'lend': 1236, 'rate': 41518, 'incurs': 96, 'border': 7365, 'guerrilla': 8117, 'hostag': 3163, 'hostages': 966, 'lebanon': 6927, 'proiranian': 473, 'shiit': 1598, 'kidnap': 1906, 'coup': 2796, 'attempt': 9396, 'nation': 119498, 'rifl': 1444, 'associ': 13529, 'nra': 178, 'iran': 12368, 'contra': 6786, 'affair': 8720, 'rail': 2634, 'strike': 24404, 'poach': 95, 'wildlif': 1371, 'poacher': 88, 'tusk': 63, 'poaching': 32, 'antipoach': 20, 'poachers': 37, 'agreement': 13303, 'launch': 5849, 'commerci': 5105, 'satellit': 1922, 'offic': 27581, 'institut': 7384, 'research': 11261, 'institute': 1430, 'thrift': 1507, 'institutions': 934, 'deposit': 2273, 'crime': 10302, 'comput': 12376, 'communist': 14499, 'transfer': 2882, 'technolog': 6838, 'invest': 7630, 'opec': 990, 'downstream': 110, 'israel': 10380, 'safeti': 5622, 'worker': 13771, 'diamet': 162, 'fiber': 1173, 'mci': 277, 'optic': 304, 'hairthin': 10, 'spacemad': 6, 'resolidifi': 6, 'fibers': 88, 'telescope': 108, 'salari': 2054, 'incent': 1431, 'pay': 31956, '1988': 16708, 'presidenti': 6111, 'translat': 925, 'english': 2575, 'languages': 138, 'translation': 48, 'text': 654, 'rozovskaya': 6, 'weapon': 8321, 'weapons': 2927, 'nuclear': 8727, 'arm': 11952, 'missil': 3936, 'missiles': 1120}\n",
      "{'corrupt': 1856, 'public': 23607, 'offici': 55742, 'weather': 5234, 'least': 15009, 'locat': 2813, 'forecast': 3799, 'temperatur': 3605, 'rain': 6349, 'wind': 4753, 'snow': 4138, 'prime': 17904, 'lend': 1236, 'rate': 41518, 'incurs': 96, 'border': 7365, 'guerrilla': 8117, 'hostag': 3163, 'hostages': 966, 'lebanon': 6927, 'proiranian': 473, 'shiit': 1598, 'kidnap': 1906, 'coup': 2796, 'attempt': 9396, 'nation': 119498, 'rifl': 1444, 'associ': 13529, 'nra': 178, 'iran': 12368, 'contra': 6786, 'affair': 8720, 'rail': 2634, 'strike': 24404, 'poach': 95, 'wildlif': 1371, 'poacher': 88, 'tusk': 63, 'poaching': 32, 'antipoach': 20, 'poachers': 37, 'agreement': 13303, 'launch': 5849, 'commerci': 5105, 'satellit': 1922, 'offic': 27581, 'institut': 7384, 'research': 11261, 'institute': 1430, 'thrift': 1507, 'institutions': 934, 'deposit': 2273, 'crime': 10302, 'comput': 12376, 'communist': 14499, 'transfer': 2882, 'technolog': 6838, 'invest': 7630, 'opec': 990, 'downstream': 110, 'israel': 10380, 'safeti': 5622, 'worker': 13771, 'diamet': 162, 'fiber': 1173, 'mci': 277, 'optic': 304, 'hairthin': 10, 'spacemad': 6, 'resolidifi': 6, 'fibers': 88, 'telescope': 108, 'salari': 2054, 'incent': 1431, 'pay': 31956, '1988': 16708, 'presidenti': 6111, 'translat': 925, 'english': 2575, 'languages': 138, 'translation': 48, 'text': 654, 'rozovskaya': 6, 'weapon': 8321, 'weapons': 2927, 'nuclear': 8727, 'arm': 11952, 'missil': 3936, 'missiles': 1120}\n"
     ]
    }
   ],
   "source": [
    "def get_query_terms_pr(pr_es_query_dict):\n",
    "    all_query_terms=[]\n",
    "    for query_num, query_text in pr_es_query_dict.items():\n",
    "        print(f\"Processing Query {query_num}: {query_text}\")\n",
    "        all_query_terms += query_text.split()\n",
    "            \n",
    "    term_freq_in_corpus = calculate_term_freq_in_corpus(all_document_term_vectors, all_query_terms)\n",
    "    print(term_freq_in_corpus)\n",
    "    return term_freq_in_corpus\n",
    "\n",
    "term_freq_in_corpus = get_query_terms_pr(pr_es_query_dict)"
   ]
  },
  {
   "cell_type": "code",
   "execution_count": 178,
   "id": "e3028c9f",
   "metadata": {},
   "outputs": [
    {
     "name": "stdout",
     "output_type": "stream",
     "text": [
      "Processing Query 85: corrupt public offici\n",
      "Processing Query 59: weather least locat forecast temperatur rain wind snow\n",
      "Processing Query 56: prime lend rate prime rate\n",
      "Processing Query 71: incurs border guerrilla\n",
      "Processing Query 64: hostag hostages lebanon proiranian shiit kidnap\n",
      "Processing Query 62: coup attempt\n",
      "Processing Query 93: nation rifl associ nra\n",
      "Processing Query 99: iran contra affair\n",
      "Processing Query 58: rail strike rail strike\n",
      "Processing Query 77: poach wildlif poacher tusk poaching antipoach poachers\n",
      "Processing Query 54: agreement launch commerci satellit\n",
      "Processing Query 87: offic institut research institute thrift institutions deposit\n",
      "Processing Query 94: crime comput\n",
      "Processing Query 100: communist transfer technolog nation\n",
      "Processing Query 89: invest opec downstream\n",
      "Processing Query 61: israel iran contra affair\n",
      "Processing Query 95: comput crime\n",
      "Processing Query 68: safeti worker diamet fiber\n",
      "Processing Query 57: mci\n",
      "Processing Query 97: fiber optic technolog hairthin spacemad resolidifi fibers telescope\n",
      "Processing Query 98: fiber optic hairthin spacemad resolidifi fibers telescope\n",
      "Processing Query 60: salari incent pay pay\n",
      "Processing Query 80: 1988 presidenti\n",
      "Processing Query 63: translat english languages translation text rozovskaya\n",
      "Processing Query 91: weapon weapons nuclear arm missil missiles\n",
      "Queries executed successfully.\n"
     ]
    }
   ],
   "source": [
    "output_file_path_jm = \"./Deliverables/output_UnigramJM_Score_PR_ES.txt\"\n",
    "lambda_value = 0.8  \n",
    "run_queries_and_write_results_jm(output_file_path_jm, pr_es_query_dict, lambda_value)\n",
    "print(\"Queries executed successfully.\")"
   ]
  },
  {
   "cell_type": "code",
   "execution_count": null,
   "id": "4641fca4",
   "metadata": {},
   "outputs": [],
   "source": []
  }
 ],
 "metadata": {
  "kernelspec": {
   "display_name": "Python 3 (ipykernel)",
   "language": "python",
   "name": "python3"
  },
  "language_info": {
   "codemirror_mode": {
    "name": "ipython",
    "version": 3
   },
   "file_extension": ".py",
   "mimetype": "text/x-python",
   "name": "python",
   "nbconvert_exporter": "python",
   "pygments_lexer": "ipython3",
   "version": "3.11.5"
  }
 },
 "nbformat": 4,
 "nbformat_minor": 5
}
