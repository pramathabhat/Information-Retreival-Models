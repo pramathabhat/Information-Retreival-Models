{
 "cells": [
  {
   "cell_type": "markdown",
   "id": "42927615",
   "metadata": {},
   "source": [
    "# Task 2"
   ]
  },
  {
   "cell_type": "markdown",
   "id": "c251865b",
   "metadata": {},
   "source": [
    "# Document Indexing"
   ]
  },
  {
   "cell_type": "code",
   "execution_count": 4,
   "id": "9d95456e",
   "metadata": {},
   "outputs": [],
   "source": [
    "import os\n",
    "from nltk.tokenize import word_tokenize\n",
    "from nltk.stem import PorterStemmer\n",
    "import re"
   ]
  },
  {
   "cell_type": "markdown",
   "id": "c334f823",
   "metadata": {},
   "source": [
    "# Read all files and parse doc ID and text"
   ]
  },
  {
   "cell_type": "code",
   "execution_count": 5,
   "id": "96688067",
   "metadata": {},
   "outputs": [],
   "source": [
    "def stem_text(text, ps):\n",
    "    stemmed = ' '.join([ps.stem(word) for word in text.split()])\n",
    "    return stemmed"
   ]
  },
  {
   "cell_type": "code",
   "execution_count": 6,
   "id": "7a2e77dd",
   "metadata": {},
   "outputs": [],
   "source": [
    "text_map = {}\n",
    "ps = PorterStemmer()\n",
    "\n",
    "def parse_file(file_path):\n",
    "    current_doc_no = None\n",
    "    reading_text = False\n",
    "    doc_text = \"\"\n",
    "    \n",
    "    # parse the doc to get doc no and corresponding text\n",
    "    with open(file_path, 'r', encoding='ISO-8859-1', errors='ignore') as file:\n",
    "        lines = file.readlines()\n",
    "\n",
    "    for line in lines:\n",
    "        if \"<DOCNO>\" in line:\n",
    "            current_doc_no = line.strip().replace('<DOCNO>', '').replace('</DOCNO>', '')\n",
    "        elif \"<TEXT>\" in line:\n",
    "            reading_text = True\n",
    "        elif \"</TEXT>\" in line:\n",
    "            reading_text = False\n",
    "        elif reading_text:\n",
    "            doc_text += line.strip() + ' '\n",
    "        elif \"</DOC>\" in line:\n",
    "            if current_doc_no is not None:\n",
    "                stemmed_text = stem_text(doc_text, ps)\n",
    "                text_map[current_doc_no.strip()] = stemmed_text.strip()\n",
    "                doc_text = \"\" "
   ]
  },
  {
   "cell_type": "code",
   "execution_count": 8,
   "id": "81649f9e",
   "metadata": {},
   "outputs": [
    {
     "name": "stdout",
     "output_type": "stream",
     "text": [
      "Parsing completed\n"
     ]
    }
   ],
   "source": [
    "folder = \"./IR_data/AP_DATA/ap89_collection\"\n",
    "\n",
    "for filename in os.listdir(folder):\n",
    "    if filename != 'readme':\n",
    "        file_path = os.path.join(folder, filename)\n",
    "        parse_file(file_path)\n",
    "        \n",
    "print(\"Parsing completed\")"
   ]
  },
  {
   "cell_type": "code",
   "execution_count": 9,
   "id": "21647f39",
   "metadata": {},
   "outputs": [
    {
     "name": "stdout",
     "output_type": "stream",
     "text": [
      "84678\n"
     ]
    }
   ],
   "source": [
    "#total no of docs\n",
    "print(len(text_map))"
   ]
  },
  {
   "cell_type": "code",
   "execution_count": 10,
   "id": "a071e772",
   "metadata": {},
   "outputs": [
    {
     "data": {
      "text/plain": [
       "\"the celluloid torch ha been pass to a new generation: filmmak who grew up in the 1960s. ``platoon,'' ``run on empty,'' ``1969'' and ``mississippi burning'' are among the movi releas in the past two year from writer and director who brought their own experi of that turbul decad to the screen. ``the contemporari of the '60 are some of the filmmak of the '80s. it' natural,'' said robert friedman, the senior vice presid of worldwid advertis and public at warner bros. chri gerolmo, who wrote the screenplay for ``mississippi burning,'' note that the sheer passag of time ha allow him and other to express their feel about the decade. ``distanc is important,'' he said. ``i believ there' a lot of think about that time and america in general.'' the vietnam war wa a defin experi for mani peopl in the '60s, shatter the consensu that the unit state had a right, even a moral duti to interven in conflict around the world. even today, politician talk disparagingli of the ``vietnam syndrome'' in refer to the country' reluct to use militari forc to settl disputes. ``i think futur historian will talk about vietnam as one of the near destruct of american society,'' said uri brofenbrenner, a professor of sociolog at cornel university. ``in world war ii, we knew what we were fight for, but not in vietnam.'' ``full metal jacket,'' ``garden of stone,'' ``platoon,'' ``good morning, vietnam,'' ``hamburg hill'' and ``bat 21'' all use the war as a dramat backdrop and show how it shape characters' lives. the vietnam war ha remain an emot issu in the unit state as veteran have struggl to come to term with their experiences. one wa oliv stone, who wrote and direct the academi award-win ``platoon.'' ``i saw `platoon' eight times,'' said john j. anderson, a palm beach counti sheriff' lieuten who serv in vietnam in 1966-67. ``i cri the first time i saw it ... and the third and fourth times. `platoon' help me understand.'' stone, who base ``platoon'' on some of hi own experi as a grunt, said the film brought up issu that had yet to be resolved. ``peopl are respond to the fact that it' real. they'r curiou about the war in vietnam after 20 years,'' he said. while southeast asia wa the pivot foreign issu in american societi of the '60s, civil right wa the major domest issue. the civil right movement reach it peak in the ``freedom summer'' of 1964, when larg group of volunt head south to help regist black voters. in ``five corners,'' a movi about the summer of '64 in the bronx star jodi foster, her friend, play by tim robbins, leav hi neighborhood to volunt in the south after see the rev. martin luther king jr. on television. alan parker' ``mississippi burning'' focus on an incid that cloud the mississippi summer project _ when 1,000 young volunt from mainstream america swept into the state to help regist black voters. the movi is a fiction account of the disappear and slay of three civil right workers: michael schwerner, andrew goodman and jame chaney. they were report miss on june 21, sever hour after be stop for speed near philadelphia, miss. after a nation public search, their bodi were discov aug. 4 on a farm just outsid the town. one of those who recal the incid wa gerolmo, a student in the new york public school system at the time. the screenwrit said the incid had a power effect on hi way of thinking. ``it wa the first time i ever consid that our countri could be wrong,'' gerolmo said. the film star willem dafo and gene hackman star as fbi agent who tri to find the bodi of the miss worker and overcom fierc local resist to solv the crime. in a more offbeat and outrag way, john waters' ``hairspray'' discuss integr in baltimor in 1963 when a group of teen-ag tri to break down the barrier of a segreg danc show. also set in baltimor is barri levinson' ``tin men,'' star danni devito and richard dreyfuss as two slick aluminum side salesmen in the earli '60s. the movi mirror a squar middle-class culture, one that wa not caught up in sex, polit and drugs. instead of focus on a well-known histor event, writer-director ernest thompson take a more person approach in ``1969.'' robert downey jr. and keifer sutherland star as colleg student who battl their parent and each other over sex, drug and the vietnam war. ``i wa 19 in 1969. it wa a fulcrum time for me,'' said thompson, who wa a student at american univers at the time. ``i think it wa just the right time in my growth as an artist and as a man to tri to write about someth that happen in my youth.'' ``run on empty'' take place in the '80 but the '60 are much in evidence. judd hirsch and christin lahti play anti-war activist who sabatog a napalm plant in 1970 and are forc to live underground with their two children. naomi foner, who wrote ``run on empty'' and also serv as the film' execut producer, grew up in brooklyn, n.y., the daughter of sociologists. her own experi made foner well qualifi to give ``run on empty'' it strong polit theme. ``i live through that time and i'v want to find the right way to present it to thi generation,'' said foner, a member of the radic student for a democrat societi while attend graduat school at columbia university. foner, who also taught in harlem' head start program and help regist voter in south carolina, said mani young peopl are curiou about what happen in the '60s. ``a lot of them think it wa an excit time that they were sorri to have missed,'' she said. brofenbrenn said movi are a good indic of the concern of the gener public: ``the principl impact of the media is that they reflect the valu of the larger society. ``film is a veri power art medium,'' he said. ``i believ it veri accur reflect not onli the prevail but the come trends. it' becaus film writers, like other writers, are percept people. they get the messag of what' go on.''\""
      ]
     },
     "execution_count": 10,
     "metadata": {},
     "output_type": "execute_result"
    }
   ],
   "source": [
    "#save doc id into a list\n",
    "docnos = list(text_map.keys())\n",
    "docnos[0]\n",
    "\n",
    "first_doc_value = next(iter(text_map.values()), None)\n",
    "\n",
    "first_doc_value"
   ]
  },
  {
   "cell_type": "markdown",
   "id": "6a3fe3fb",
   "metadata": {},
   "source": [
    "# Read stopwords into list"
   ]
  },
  {
   "cell_type": "code",
   "execution_count": 11,
   "id": "0df46b37",
   "metadata": {},
   "outputs": [
    {
     "name": "stdout",
     "output_type": "stream",
     "text": [
      "418\n"
     ]
    }
   ],
   "source": [
    "sw_path = \"./config/stoplist.txt\"\n",
    "\n",
    "with open(sw_path) as file:\n",
    "    stopwords = file.read().splitlines()\n",
    "\n",
    "print(len(stopwords))"
   ]
  },
  {
   "cell_type": "markdown",
   "id": "e75b87a9",
   "metadata": {},
   "source": [
    "# Remove stop words and punctuations from content"
   ]
  },
  {
   "cell_type": "code",
   "execution_count": 12,
   "id": "cc7729f1",
   "metadata": {},
   "outputs": [],
   "source": [
    "import string\n",
    "\n",
    "def process_content(text):\n",
    "    text = ' '.join([word.lower() for word in text.split() if word.lower() not in stopwords])\n",
    "    text = text.translate(str.maketrans(\"\", \"\", string.punctuation))\n",
    "    return text"
   ]
  },
  {
   "cell_type": "code",
   "execution_count": 13,
   "id": "08f0278d",
   "metadata": {},
   "outputs": [
    {
     "name": "stdout",
     "output_type": "stream",
     "text": [
      "Document ID: AP890101-0001\n",
      "Processed Content of the First Document: celluloid torch ha pass new generation filmmak grew 1960s platoon run empty 1969 mississippi burning movi releas past two writer director brought experi turbul decad screen the contemporari 60 filmmak 80s it natural robert friedman senior vice presid worldwid advertis public warner bros chri gerolmo wrote screenplay mississippi burning note sheer passag time ha allow express feel decade distanc important said i believ there lot think time america general vietnam war wa defin experi mani peopl 60s shatter consensu unit state right moral duti interven conflict world today politician talk disparagingli vietnam syndrome refer country reluct militari forc settl disputes i think futur historian talk vietnam near destruct american society uri brofenbrenner professor sociolog cornel university in world war ii knew fight for vietnam full metal jacket garden stone platoon good morning vietnam hamburg hill bat 21 war dramat backdrop show shape characters lives vietnam war ha remain emot issu unit state veteran struggl come term experiences wa oliv stone wrote direct academi awardwin platoon i platoon eight times john j anderson palm beach counti sheriff lieuten serv vietnam 196667 i cri time  third fourth times platoon help understand stone base platoon hi experi grunt film brought issu resolved peopl respond fact it real theyr curiou war vietnam 20 years said southeast asia wa pivot foreign issu american societi 60s civil right wa major domest issue civil right movement reach peak freedom summer 1964 larg group volunt head south help regist black voters five corners movi summer 64 bronx star jodi foster friend play tim robbins leav hi neighborhood volunt south rev martin luther king jr television alan parker mississippi burning focus incid cloud mississippi summer project  1000 young volunt mainstream america swept state help regist black voters movi fiction account disappear slay three civil right workers michael schwerner andrew goodman jame chaney report miss june 21 sever hour stop speed near philadelphia miss nation public search bodi discov aug 4 farm outsid town recal incid wa gerolmo student new york public school system time screenwrit incid power effect hi way thinking it wa time consid countri wrong gerolmo said film star willem dafo gene hackman star fbi agent tri find bodi miss worker overcom fierc local resist solv crime offbeat outrag way john waters hairspray discuss integr baltimor 1963 group teenag tri break barrier segreg danc show set baltimor barri levinson tin men star danni devito richard dreyfuss two slick aluminum side salesmen earli 60s movi mirror squar middleclass culture wa caught sex polit drugs focus wellknown histor event writerdirector ernest thompson take person approach 1969 robert downey jr keifer sutherland star colleg student battl parent sex drug vietnam war i wa 19 1969 wa fulcrum time me thompson wa student american univers time i think wa right time growth artist man tri write someth happen youth run empty take place 80 60 evidence judd hirsch christin lahti play antiwar activist sabatog napalm plant 1970 forc live underground two children naomi foner wrote run empty serv film execut producer grew brooklyn ny daughter sociologists experi made foner qualifi give run empty strong polit theme i live time iv find right way present thi generation foner member radic student democrat societi attend graduat school columbia university foner taught harlem head start program help regist voter south carolina mani young peopl curiou happen 60s a lot think wa excit time sorri missed said brofenbrenn movi good indic concern gener public the principl impact media reflect valu larger society film veri power art medium said i believ veri accur reflect onli prevail come trends it becaus film writers writers percept people messag what on\n"
     ]
    }
   ],
   "source": [
    "processed_text_map = {doc_id: process_content(content) for doc_id, content in text_map.items()}\n",
    "\n",
    "docnos = list(processed_text_map.keys())\n",
    "first_doc_id = docnos[0]\n",
    "first_doc_processed_content = processed_text_map[first_doc_id]\n",
    "\n",
    "print(f\"Document ID: {first_doc_id}\")\n",
    "print(f\"Processed Content of the First Document: {first_doc_processed_content}\")"
   ]
  },
  {
   "cell_type": "markdown",
   "id": "017b4d5c",
   "metadata": {},
   "source": [
    "# ElasticSearch"
   ]
  },
  {
   "cell_type": "code",
   "execution_count": 14,
   "id": "57fc5b22",
   "metadata": {},
   "outputs": [
    {
     "name": "stdout",
     "output_type": "stream",
     "text": [
      "True\n"
     ]
    }
   ],
   "source": [
    "from elasticsearch7 import Elasticsearch\n",
    "\n",
    "es = Elasticsearch(\"http://localhost:9200\")\n",
    "\n",
    "print(es.ping())"
   ]
  },
  {
   "cell_type": "markdown",
   "id": "14d52305",
   "metadata": {},
   "source": [
    "# Create index"
   ]
  },
  {
   "cell_type": "code",
   "execution_count": 15,
   "id": "8d4ce492",
   "metadata": {},
   "outputs": [],
   "source": [
    "index_name = \"ap89_data4\"\n",
    "\n",
    "configurations = {\n",
    "    \"settings\" : {\n",
    "        \"number_of_shards\": 1,\n",
    "        \"number_of_replicas\": 1,\n",
    "        \"analysis\": {\n",
    "            \"filter\": {\n",
    "                \"english_stop\": {\n",
    "                    \"type\": \"stop\",\n",
    "                    \"stopwords\": stopwords\n",
    "                }\n",
    "            },\n",
    "            \"analyzer\": {\n",
    "                \"stopped\": {\n",
    "                    \"type\": \"custom\",\n",
    "                    \"tokenizer\": \"standard\",\n",
    "                    \"filter\": [\n",
    "                        \"lowercase\",\n",
    "                        \"english_stop\"\n",
    "                    ]\n",
    "                }\n",
    "            }\n",
    "      }\n",
    "    },\n",
    "    \"mappings\": {\n",
    "        \"properties\": {\n",
    "            \"content\": {\n",
    "                \"type\": \"text\",\n",
    "                \"fielddata\": True,\n",
    "                \"analyzer\": \"stopped\",\n",
    "                \"index_options\": \"positions\"\n",
    "            }\n",
    "        }\n",
    "    }\n",
    "}"
   ]
  },
  {
   "cell_type": "code",
   "execution_count": null,
   "id": "7e228b0d",
   "metadata": {},
   "outputs": [],
   "source": [
    "es.indices.delete(index=index_name)"
   ]
  },
  {
   "cell_type": "code",
   "execution_count": 17,
   "id": "298250c0",
   "metadata": {},
   "outputs": [
    {
     "name": "stderr",
     "output_type": "stream",
     "text": [
      "C:\\Users\\Pramatha\\AppData\\Local\\Temp\\ipykernel_28844\\3868789886.py:1: DeprecationWarning: The 'body' parameter is deprecated for the 'create' API and will be removed in a future version. Instead use API parameters directly. See https://github.com/elastic/elasticsearch-py/issues/1698 for more information\n",
      "  es.indices.create(index=index_name, body=configurations)\n"
     ]
    },
    {
     "data": {
      "text/plain": [
       "{'acknowledged': True, 'shards_acknowledged': True, 'index': 'ap89_data4'}"
      ]
     },
     "execution_count": 17,
     "metadata": {},
     "output_type": "execute_result"
    }
   ],
   "source": [
    "es.indices.create(index=index_name, body=configurations)"
   ]
  },
  {
   "cell_type": "code",
   "execution_count": 18,
   "id": "41574d4d",
   "metadata": {},
   "outputs": [],
   "source": [
    "def add_data(_id, text):\n",
    "    es.index(index=index_name, document={'content': text}, id = _id)"
   ]
  },
  {
   "cell_type": "code",
   "execution_count": null,
   "id": "2d174e9d",
   "metadata": {},
   "outputs": [],
   "source": [
    "for key in processed_text_map:\n",
    "    add_data(key, processed_text_map[key])\n",
    "    \n",
    "print(\"All documents have been added to the index\")"
   ]
  },
  {
   "cell_type": "code",
   "execution_count": null,
   "id": "6c54d2d6",
   "metadata": {},
   "outputs": [],
   "source": []
  },
  {
   "cell_type": "code",
   "execution_count": null,
   "id": "6a6567e2",
   "metadata": {},
   "outputs": [],
   "source": []
  }
 ],
 "metadata": {
  "kernelspec": {
   "display_name": "Python 3 (ipykernel)",
   "language": "python",
   "name": "python3"
  },
  "language_info": {
   "codemirror_mode": {
    "name": "ipython",
    "version": 3
   },
   "file_extension": ".py",
   "mimetype": "text/x-python",
   "name": "python",
   "nbconvert_exporter": "python",
   "pygments_lexer": "ipython3",
   "version": "3.11.5"
  }
 },
 "nbformat": 4,
 "nbformat_minor": 5
}
