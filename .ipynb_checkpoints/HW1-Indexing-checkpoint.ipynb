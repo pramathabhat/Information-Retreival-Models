{
 "cells": [
  {
   "cell_type": "markdown",
   "id": "42927615",
   "metadata": {},
   "source": [
    "# Task 2"
   ]
  },
  {
   "cell_type": "markdown",
   "id": "c251865b",
   "metadata": {},
   "source": [
    "# Document Indexing"
   ]
  },
  {
   "cell_type": "code",
   "execution_count": 1,
   "id": "9d95456e",
   "metadata": {},
   "outputs": [],
   "source": [
    "import os\n",
    "from nltk.tokenize import word_tokenize\n",
    "from nltk.stem import PorterStemmer\n",
    "import re"
   ]
  },
  {
   "cell_type": "markdown",
   "id": "c334f823",
   "metadata": {},
   "source": [
    "# Read all files and parse doc ID and text"
   ]
  },
  {
   "cell_type": "code",
   "execution_count": 2,
   "id": "96688067",
   "metadata": {},
   "outputs": [],
   "source": [
    "def stem_text(text, ps):\n",
    "    stemmed = ' '.join([ps.stem(word) for word in text.split()])\n",
    "    return stemmed"
   ]
  },
  {
   "cell_type": "code",
   "execution_count": 3,
   "id": "7a2e77dd",
   "metadata": {},
   "outputs": [],
   "source": [
    "text_map = {}\n",
    "ps = PorterStemmer()\n",
    "\n",
    "def parse_file(file_path):\n",
    "    current_doc_no = None\n",
    "    reading_text = False\n",
    "    doc_text = \"\"\n",
    "    \n",
    "    # parse the doc to get doc no and corresponding text\n",
    "    with open(file_path, 'r', encoding='ISO-8859-1', errors='ignore') as file:\n",
    "        lines = file.readlines()\n",
    "\n",
    "    for line in lines:\n",
    "        if \"<DOCNO>\" in line:\n",
    "            current_doc_no = line.strip().replace('<DOCNO>', '').replace('</DOCNO>', '')\n",
    "        elif \"<TEXT>\" in line:\n",
    "            reading_text = True\n",
    "        elif \"</TEXT>\" in line:\n",
    "            reading_text = False\n",
    "        elif reading_text:\n",
    "            doc_text += line.strip() + ' '\n",
    "        elif \"</DOC>\" in line:\n",
    "            if current_doc_no is not None:\n",
    "                stemmed_text = stem_text(doc_text, ps)\n",
    "                text_map[current_doc_no.strip()] = stemmed_text.strip()\n",
    "                doc_text = \"\" "
   ]
  },
  {
   "cell_type": "code",
   "execution_count": 38,
   "id": "81649f9e",
   "metadata": {},
   "outputs": [
    {
     "name": "stdout",
     "output_type": "stream",
     "text": [
      "Parsing completed\n"
     ]
    }
   ],
   "source": [
    "folder = \"./hw1-pramathabhat-main/IR_data/AP_DATA/ap89_collection\"\n",
    "\n",
    "for filename in os.listdir(folder):\n",
    "    if filename != 'readme':\n",
    "        file_path = os.path.join(folder, filename)\n",
    "        parse_file(file_path)\n",
    "        \n",
    "print(\"Parsing completed\")"
   ]
  },
  {
   "cell_type": "code",
   "execution_count": 39,
   "id": "21647f39",
   "metadata": {},
   "outputs": [
    {
     "name": "stdout",
     "output_type": "stream",
     "text": [
      "84678\n"
     ]
    }
   ],
   "source": [
    "#total no of docs\n",
    "print(len(text_map))"
   ]
  },
  {
   "cell_type": "code",
   "execution_count": 40,
   "id": "a071e772",
   "metadata": {},
   "outputs": [
    {
     "data": {
      "text/plain": [
       "\"the celluloid torch ha been pass to a new generation: filmmak who grew up in the 1960s. ``platoon,'' ``run on empty,'' ``1969'' and ``mississippi burning'' are among the movi releas in the past two year from writer and director who brought their own experi of that turbul decad to the screen. ``the contemporari of the '60 are some of the filmmak of the '80s. it' natural,'' said robert friedman, the senior vice presid of worldwid advertis and public at warner bros. chri gerolmo, who wrote the screenplay for ``mississippi burning,'' note that the sheer passag of time ha allow him and other to express their feel about the decade. ``distanc is important,'' he said. ``i believ there' a lot of think about that time and america in general.'' the vietnam war wa a defin experi for mani peopl in the '60s, shatter the consensu that the unit state had a right, even a moral duti to interven in conflict around the world. even today, politician talk disparagingli of the ``vietnam syndrome'' in refer to the country' reluct to use militari forc to settl disputes. ``i think futur historian will talk about vietnam as one of the near destruct of american society,'' said uri brofenbrenner, a professor of sociolog at cornel university. ``in world war ii, we knew what we were fight for, but not in vietnam.'' ``full metal jacket,'' ``garden of stone,'' ``platoon,'' ``good morning, vietnam,'' ``hamburg hill'' and ``bat 21'' all use the war as a dramat backdrop and show how it shape characters' lives. the vietnam war ha remain an emot issu in the unit state as veteran have struggl to come to term with their experiences. one wa oliv stone, who wrote and direct the academi award-win ``platoon.'' ``i saw `platoon' eight times,'' said john j. anderson, a palm beach counti sheriff' lieuten who serv in vietnam in 1966-67. ``i cri the first time i saw it ... and the third and fourth times. `platoon' help me understand.'' stone, who base ``platoon'' on some of hi own experi as a grunt, said the film brought up issu that had yet to be resolved. ``peopl are respond to the fact that it' real. they'r curiou about the war in vietnam after 20 years,'' he said. while southeast asia wa the pivot foreign issu in american societi of the '60s, civil right wa the major domest issue. the civil right movement reach it peak in the ``freedom summer'' of 1964, when larg group of volunt head south to help regist black voters. in ``five corners,'' a movi about the summer of '64 in the bronx star jodi foster, her friend, play by tim robbins, leav hi neighborhood to volunt in the south after see the rev. martin luther king jr. on television. alan parker' ``mississippi burning'' focus on an incid that cloud the mississippi summer project _ when 1,000 young volunt from mainstream america swept into the state to help regist black voters. the movi is a fiction account of the disappear and slay of three civil right workers: michael schwerner, andrew goodman and jame chaney. they were report miss on june 21, sever hour after be stop for speed near philadelphia, miss. after a nation public search, their bodi were discov aug. 4 on a farm just outsid the town. one of those who recal the incid wa gerolmo, a student in the new york public school system at the time. the screenwrit said the incid had a power effect on hi way of thinking. ``it wa the first time i ever consid that our countri could be wrong,'' gerolmo said. the film star willem dafo and gene hackman star as fbi agent who tri to find the bodi of the miss worker and overcom fierc local resist to solv the crime. in a more offbeat and outrag way, john waters' ``hairspray'' discuss integr in baltimor in 1963 when a group of teen-ag tri to break down the barrier of a segreg danc show. also set in baltimor is barri levinson' ``tin men,'' star danni devito and richard dreyfuss as two slick aluminum side salesmen in the earli '60s. the movi mirror a squar middle-class culture, one that wa not caught up in sex, polit and drugs. instead of focus on a well-known histor event, writer-director ernest thompson take a more person approach in ``1969.'' robert downey jr. and keifer sutherland star as colleg student who battl their parent and each other over sex, drug and the vietnam war. ``i wa 19 in 1969. it wa a fulcrum time for me,'' said thompson, who wa a student at american univers at the time. ``i think it wa just the right time in my growth as an artist and as a man to tri to write about someth that happen in my youth.'' ``run on empty'' take place in the '80 but the '60 are much in evidence. judd hirsch and christin lahti play anti-war activist who sabatog a napalm plant in 1970 and are forc to live underground with their two children. naomi foner, who wrote ``run on empty'' and also serv as the film' execut producer, grew up in brooklyn, n.y., the daughter of sociologists. her own experi made foner well qualifi to give ``run on empty'' it strong polit theme. ``i live through that time and i'v want to find the right way to present it to thi generation,'' said foner, a member of the radic student for a democrat societi while attend graduat school at columbia university. foner, who also taught in harlem' head start program and help regist voter in south carolina, said mani young peopl are curiou about what happen in the '60s. ``a lot of them think it wa an excit time that they were sorri to have missed,'' she said. brofenbrenn said movi are a good indic of the concern of the gener public: ``the principl impact of the media is that they reflect the valu of the larger society. ``film is a veri power art medium,'' he said. ``i believ it veri accur reflect not onli the prevail but the come trends. it' becaus film writers, like other writers, are percept people. they get the messag of what' go on.''\""
      ]
     },
     "execution_count": 40,
     "metadata": {},
     "output_type": "execute_result"
    }
   ],
   "source": [
    "#save doc id into a list\n",
    "docnos = list(text_map.keys())\n",
    "docnos[0]\n",
    "\n",
    "first_doc_value = next(iter(text_map.values()), None)\n",
    "\n",
    "first_doc_value"
   ]
  },
  {
   "cell_type": "markdown",
   "id": "6a3fe3fb",
   "metadata": {},
   "source": [
    "# Read stopwords into list"
   ]
  },
  {
   "cell_type": "code",
   "execution_count": 41,
   "id": "0df46b37",
   "metadata": {},
   "outputs": [
    {
     "name": "stdout",
     "output_type": "stream",
     "text": [
      "418\n"
     ]
    }
   ],
   "source": [
    "sw_path = \"./hw1-pramathabhat-main/config/stoplist.txt\"\n",
    "\n",
    "with open(sw_path) as file:\n",
    "    stopwords = file.read().splitlines()\n",
    "\n",
    "print(len(stopwords))\n",
    "#for i, stopword in enumerate(stopwords, start=1):\n",
    "#    print(f\"{i}. {stopword}\")"
   ]
  },
  {
   "cell_type": "markdown",
   "id": "e75b87a9",
   "metadata": {},
   "source": [
    "# Remove stop words and punctuations from content"
   ]
  },
  {
   "cell_type": "code",
   "execution_count": 42,
   "id": "cc7729f1",
   "metadata": {},
   "outputs": [],
   "source": [
    "import string\n",
    "\n",
    "def process_content(text):\n",
    "    text = ' '.join([word.lower() for word in text.split() if word.lower() not in stopwords])\n",
    "    text = text.translate(str.maketrans(\"\", \"\", string.punctuation))\n",
    "    return text"
   ]
  },
  {
   "cell_type": "code",
   "execution_count": 43,
   "id": "08f0278d",
   "metadata": {},
   "outputs": [
    {
     "name": "stdout",
     "output_type": "stream",
     "text": [
      "Document ID: AP890101-0001\n",
      "Processed Content of the First Document: celluloid torch ha pass new generation: filmmak grew 1960s. ``platoon,'' ``run empty,'' ``1969'' ``mississippi burning'' movi releas past two writer director brought experi turbul decad screen. ``the contemporari '60 filmmak '80s. it' natural,'' robert friedman, senior vice presid worldwid advertis public warner bros. chri gerolmo, wrote screenplay ``mississippi burning,'' note sheer passag time ha allow express feel decade. ``distanc important,'' said. ``i believ there' lot think time america general.'' vietnam war wa defin experi mani peopl '60s, shatter consensu unit state right, moral duti interven conflict world. today, politician talk disparagingli ``vietnam syndrome'' refer country' reluct militari forc settl disputes. ``i think futur historian talk vietnam near destruct american society,'' uri brofenbrenner, professor sociolog cornel university. ``in world war ii, knew fight for, vietnam.'' ``full metal jacket,'' ``garden stone,'' ``platoon,'' ``good morning, vietnam,'' ``hamburg hill'' ``bat 21'' war dramat backdrop show shape characters' lives. vietnam war ha remain emot issu unit state veteran struggl come term experiences. wa oliv stone, wrote direct academi award-win ``platoon.'' ``i `platoon' eight times,'' john j. anderson, palm beach counti sheriff' lieuten serv vietnam 1966-67. ``i cri time ... third fourth times. `platoon' help understand.'' stone, base ``platoon'' hi experi grunt, film brought issu resolved. ``peopl respond fact it' real. they'r curiou war vietnam 20 years,'' said. southeast asia wa pivot foreign issu american societi '60s, civil right wa major domest issue. civil right movement reach peak ``freedom summer'' 1964, larg group volunt head south help regist black voters. ``five corners,'' movi summer '64 bronx star jodi foster, friend, play tim robbins, leav hi neighborhood volunt south rev. martin luther king jr. television. alan parker' ``mississippi burning'' focus incid cloud mississippi summer project _ 1,000 young volunt mainstream america swept state help regist black voters. movi fiction account disappear slay three civil right workers: michael schwerner, andrew goodman jame chaney. report miss june 21, sever hour stop speed near philadelphia, miss. nation public search, bodi discov aug. 4 farm outsid town. recal incid wa gerolmo, student new york public school system time. screenwrit incid power effect hi way thinking. ``it wa time consid countri wrong,'' gerolmo said. film star willem dafo gene hackman star fbi agent tri find bodi miss worker overcom fierc local resist solv crime. offbeat outrag way, john waters' ``hairspray'' discuss integr baltimor 1963 group teen-ag tri break barrier segreg danc show. set baltimor barri levinson' ``tin men,'' star danni devito richard dreyfuss two slick aluminum side salesmen earli '60s. movi mirror squar middle-class culture, wa caught sex, polit drugs. focus well-known histor event, writer-director ernest thompson take person approach ``1969.'' robert downey jr. keifer sutherland star colleg student battl parent sex, drug vietnam war. ``i wa 19 1969. wa fulcrum time me,'' thompson, wa student american univers time. ``i think wa right time growth artist man tri write someth happen youth.'' ``run empty'' take place '80 '60 evidence. judd hirsch christin lahti play anti-war activist sabatog napalm plant 1970 forc live underground two children. naomi foner, wrote ``run empty'' serv film' execut producer, grew brooklyn, n.y., daughter sociologists. experi made foner qualifi give ``run empty'' strong polit theme. ``i live time i'v find right way present thi generation,'' foner, member radic student democrat societi attend graduat school columbia university. foner, taught harlem' head start program help regist voter south carolina, mani young peopl curiou happen '60s. ``a lot think wa excit time sorri missed,'' said. brofenbrenn movi good indic concern gener public: ``the principl impact media reflect valu larger society. ``film veri power art medium,'' said. ``i believ veri accur reflect onli prevail come trends. it' becaus film writers, writers, percept people. messag what' on.''\n"
     ]
    }
   ],
   "source": [
    "processed_text_map = {doc_id: process_content(content) for doc_id, content in text_map.items()}\n",
    "\n",
    "docnos = list(processed_text_map.keys())\n",
    "first_doc_id = docnos[0]\n",
    "first_doc_processed_content = processed_text_map[first_doc_id]\n",
    "\n",
    "print(f\"Document ID: {first_doc_id}\")\n",
    "print(f\"Processed Content of the First Document: {first_doc_processed_content}\")"
   ]
  },
  {
   "cell_type": "markdown",
   "id": "017b4d5c",
   "metadata": {},
   "source": [
    "# ElasticSearch"
   ]
  },
  {
   "cell_type": "code",
   "execution_count": 44,
   "id": "57fc5b22",
   "metadata": {},
   "outputs": [
    {
     "name": "stdout",
     "output_type": "stream",
     "text": [
      "True\n"
     ]
    }
   ],
   "source": [
    "from elasticsearch7 import Elasticsearch\n",
    "\n",
    "es = Elasticsearch(\"http://localhost:9200\")\n",
    "\n",
    "print(es.ping())"
   ]
  },
  {
   "cell_type": "markdown",
   "id": "14d52305",
   "metadata": {},
   "source": [
    "# Create index"
   ]
  },
  {
   "cell_type": "code",
   "execution_count": 45,
   "id": "8d4ce492",
   "metadata": {},
   "outputs": [],
   "source": [
    "index_name = \"ap89_data4\"\n",
    "\n",
    "configurations = {\n",
    "    \"settings\" : {\n",
    "        \"number_of_shards\": 1,\n",
    "        \"number_of_replicas\": 1,\n",
    "        \"analysis\": {\n",
    "            \"filter\": {\n",
    "                \"english_stop\": {\n",
    "                    \"type\": \"stop\",\n",
    "                    \"stopwords\": stopwords\n",
    "                }\n",
    "            },\n",
    "            \"analyzer\": {\n",
    "                \"stopped\": {\n",
    "                    \"type\": \"custom\",\n",
    "                    \"tokenizer\": \"standard\",\n",
    "                    \"filter\": [\n",
    "                        \"lowercase\",\n",
    "                        \"english_stop\"\n",
    "                    ]\n",
    "                }\n",
    "            }\n",
    "      }\n",
    "    },\n",
    "    \"mappings\": {\n",
    "        \"properties\": {\n",
    "            \"content\": {\n",
    "                \"type\": \"text\",\n",
    "                \"fielddata\": True,\n",
    "                \"analyzer\": \"stopped\",\n",
    "                \"index_options\": \"positions\"\n",
    "            }\n",
    "        }\n",
    "    }\n",
    "}"
   ]
  },
  {
   "cell_type": "code",
   "execution_count": 17,
   "id": "7e228b0d",
   "metadata": {},
   "outputs": [
    {
     "ename": "NotFoundError",
     "evalue": "NotFoundError(404, 'index_not_found_exception', 'no such index [ap89_data1]', ap89_data1, index_or_alias)",
     "output_type": "error",
     "traceback": [
      "\u001b[1;31m---------------------------------------------------------------------------\u001b[0m",
      "\u001b[1;31mNotFoundError\u001b[0m                             Traceback (most recent call last)",
      "Cell \u001b[1;32mIn[17], line 1\u001b[0m\n\u001b[1;32m----> 1\u001b[0m es\u001b[38;5;241m.\u001b[39mindices\u001b[38;5;241m.\u001b[39mdelete(index\u001b[38;5;241m=\u001b[39mindex_name)\n",
      "File \u001b[1;32m~\\anaconda3\\Lib\\site-packages\\elasticsearch7\\client\\utils.py:347\u001b[0m, in \u001b[0;36mquery_params.<locals>._wrapper.<locals>._wrapped\u001b[1;34m(*args, **kwargs)\u001b[0m\n\u001b[0;32m    345\u001b[0m     \u001b[38;5;28;01mif\u001b[39;00m p \u001b[38;5;129;01min\u001b[39;00m kwargs:\n\u001b[0;32m    346\u001b[0m         params[p] \u001b[38;5;241m=\u001b[39m kwargs\u001b[38;5;241m.\u001b[39mpop(p)\n\u001b[1;32m--> 347\u001b[0m \u001b[38;5;28;01mreturn\u001b[39;00m func(\u001b[38;5;241m*\u001b[39margs, params\u001b[38;5;241m=\u001b[39mparams, headers\u001b[38;5;241m=\u001b[39mheaders, \u001b[38;5;241m*\u001b[39m\u001b[38;5;241m*\u001b[39mkwargs)\n",
      "File \u001b[1;32m~\\anaconda3\\Lib\\site-packages\\elasticsearch7\\client\\indices.py:334\u001b[0m, in \u001b[0;36mIndicesClient.delete\u001b[1;34m(self, index, params, headers)\u001b[0m\n\u001b[0;32m    331\u001b[0m \u001b[38;5;28;01mif\u001b[39;00m index \u001b[38;5;129;01min\u001b[39;00m SKIP_IN_PATH:\n\u001b[0;32m    332\u001b[0m     \u001b[38;5;28;01mraise\u001b[39;00m \u001b[38;5;167;01mValueError\u001b[39;00m(\u001b[38;5;124m\"\u001b[39m\u001b[38;5;124mEmpty value passed for a required argument \u001b[39m\u001b[38;5;124m'\u001b[39m\u001b[38;5;124mindex\u001b[39m\u001b[38;5;124m'\u001b[39m\u001b[38;5;124m.\u001b[39m\u001b[38;5;124m\"\u001b[39m)\n\u001b[1;32m--> 334\u001b[0m \u001b[38;5;28;01mreturn\u001b[39;00m \u001b[38;5;28mself\u001b[39m\u001b[38;5;241m.\u001b[39mtransport\u001b[38;5;241m.\u001b[39mperform_request(\n\u001b[0;32m    335\u001b[0m     \u001b[38;5;124m\"\u001b[39m\u001b[38;5;124mDELETE\u001b[39m\u001b[38;5;124m\"\u001b[39m, _make_path(index), params\u001b[38;5;241m=\u001b[39mparams, headers\u001b[38;5;241m=\u001b[39mheaders\n\u001b[0;32m    336\u001b[0m )\n",
      "File \u001b[1;32m~\\anaconda3\\Lib\\site-packages\\elasticsearch7\\transport.py:466\u001b[0m, in \u001b[0;36mTransport.perform_request\u001b[1;34m(self, method, url, headers, params, body)\u001b[0m\n\u001b[0;32m    464\u001b[0m             \u001b[38;5;28;01mraise\u001b[39;00m e\n\u001b[0;32m    465\u001b[0m     \u001b[38;5;28;01melse\u001b[39;00m:\n\u001b[1;32m--> 466\u001b[0m         \u001b[38;5;28;01mraise\u001b[39;00m e\n\u001b[0;32m    468\u001b[0m \u001b[38;5;28;01melse\u001b[39;00m:\n\u001b[0;32m    469\u001b[0m     \u001b[38;5;66;03m# connection didn't fail, confirm it's live status\u001b[39;00m\n\u001b[0;32m    470\u001b[0m     \u001b[38;5;28mself\u001b[39m\u001b[38;5;241m.\u001b[39mconnection_pool\u001b[38;5;241m.\u001b[39mmark_live(connection)\n",
      "File \u001b[1;32m~\\anaconda3\\Lib\\site-packages\\elasticsearch7\\transport.py:427\u001b[0m, in \u001b[0;36mTransport.perform_request\u001b[1;34m(self, method, url, headers, params, body)\u001b[0m\n\u001b[0;32m    424\u001b[0m connection \u001b[38;5;241m=\u001b[39m \u001b[38;5;28mself\u001b[39m\u001b[38;5;241m.\u001b[39mget_connection()\n\u001b[0;32m    426\u001b[0m \u001b[38;5;28;01mtry\u001b[39;00m:\n\u001b[1;32m--> 427\u001b[0m     status, headers_response, data \u001b[38;5;241m=\u001b[39m connection\u001b[38;5;241m.\u001b[39mperform_request(\n\u001b[0;32m    428\u001b[0m         method,\n\u001b[0;32m    429\u001b[0m         url,\n\u001b[0;32m    430\u001b[0m         params,\n\u001b[0;32m    431\u001b[0m         body,\n\u001b[0;32m    432\u001b[0m         headers\u001b[38;5;241m=\u001b[39mheaders,\n\u001b[0;32m    433\u001b[0m         ignore\u001b[38;5;241m=\u001b[39mignore,\n\u001b[0;32m    434\u001b[0m         timeout\u001b[38;5;241m=\u001b[39mtimeout,\n\u001b[0;32m    435\u001b[0m     )\n\u001b[0;32m    437\u001b[0m     \u001b[38;5;66;03m# Lowercase all the header names for consistency in accessing them.\u001b[39;00m\n\u001b[0;32m    438\u001b[0m     headers_response \u001b[38;5;241m=\u001b[39m {\n\u001b[0;32m    439\u001b[0m         header\u001b[38;5;241m.\u001b[39mlower(): value \u001b[38;5;28;01mfor\u001b[39;00m header, value \u001b[38;5;129;01min\u001b[39;00m headers_response\u001b[38;5;241m.\u001b[39mitems()\n\u001b[0;32m    440\u001b[0m     }\n",
      "File \u001b[1;32m~\\anaconda3\\Lib\\site-packages\\elasticsearch7\\connection\\http_urllib3.py:291\u001b[0m, in \u001b[0;36mUrllib3HttpConnection.perform_request\u001b[1;34m(self, method, url, params, body, timeout, ignore, headers)\u001b[0m\n\u001b[0;32m    287\u001b[0m \u001b[38;5;28;01mif\u001b[39;00m \u001b[38;5;129;01mnot\u001b[39;00m (\u001b[38;5;241m200\u001b[39m \u001b[38;5;241m<\u001b[39m\u001b[38;5;241m=\u001b[39m response\u001b[38;5;241m.\u001b[39mstatus \u001b[38;5;241m<\u001b[39m \u001b[38;5;241m300\u001b[39m) \u001b[38;5;129;01mand\u001b[39;00m response\u001b[38;5;241m.\u001b[39mstatus \u001b[38;5;129;01mnot\u001b[39;00m \u001b[38;5;129;01min\u001b[39;00m ignore:\n\u001b[0;32m    288\u001b[0m     \u001b[38;5;28mself\u001b[39m\u001b[38;5;241m.\u001b[39mlog_request_fail(\n\u001b[0;32m    289\u001b[0m         method, full_url, url, orig_body, duration, response\u001b[38;5;241m.\u001b[39mstatus, raw_data\n\u001b[0;32m    290\u001b[0m     )\n\u001b[1;32m--> 291\u001b[0m     \u001b[38;5;28mself\u001b[39m\u001b[38;5;241m.\u001b[39m_raise_error(response\u001b[38;5;241m.\u001b[39mstatus, raw_data)\n\u001b[0;32m    293\u001b[0m \u001b[38;5;28mself\u001b[39m\u001b[38;5;241m.\u001b[39mlog_request_success(\n\u001b[0;32m    294\u001b[0m     method, full_url, url, orig_body, response\u001b[38;5;241m.\u001b[39mstatus, raw_data, duration\n\u001b[0;32m    295\u001b[0m )\n\u001b[0;32m    297\u001b[0m \u001b[38;5;28;01mreturn\u001b[39;00m response\u001b[38;5;241m.\u001b[39mstatus, response_headers, raw_data\n",
      "File \u001b[1;32m~\\anaconda3\\Lib\\site-packages\\elasticsearch7\\connection\\base.py:328\u001b[0m, in \u001b[0;36mConnection._raise_error\u001b[1;34m(self, status_code, raw_data)\u001b[0m\n\u001b[0;32m    325\u001b[0m \u001b[38;5;28;01mexcept\u001b[39;00m (\u001b[38;5;167;01mValueError\u001b[39;00m, \u001b[38;5;167;01mTypeError\u001b[39;00m) \u001b[38;5;28;01mas\u001b[39;00m err:\n\u001b[0;32m    326\u001b[0m     logger\u001b[38;5;241m.\u001b[39mwarning(\u001b[38;5;124m\"\u001b[39m\u001b[38;5;124mUndecodable raw error response from server: \u001b[39m\u001b[38;5;132;01m%s\u001b[39;00m\u001b[38;5;124m\"\u001b[39m, err)\n\u001b[1;32m--> 328\u001b[0m \u001b[38;5;28;01mraise\u001b[39;00m HTTP_EXCEPTIONS\u001b[38;5;241m.\u001b[39mget(status_code, TransportError)(\n\u001b[0;32m    329\u001b[0m     status_code, error_message, additional_info\n\u001b[0;32m    330\u001b[0m )\n",
      "\u001b[1;31mNotFoundError\u001b[0m: NotFoundError(404, 'index_not_found_exception', 'no such index [ap89_data1]', ap89_data1, index_or_alias)"
     ]
    }
   ],
   "source": [
    "es.indices.delete(index=index_name)"
   ]
  },
  {
   "cell_type": "code",
   "execution_count": 46,
   "id": "298250c0",
   "metadata": {},
   "outputs": [
    {
     "name": "stderr",
     "output_type": "stream",
     "text": [
      "C:\\Users\\Pramatha\\AppData\\Local\\Temp\\ipykernel_18408\\3868789886.py:1: DeprecationWarning: The 'body' parameter is deprecated for the 'create' API and will be removed in a future version. Instead use API parameters directly. See https://github.com/elastic/elasticsearch-py/issues/1698 for more information\n",
      "  es.indices.create(index=index_name, body=configurations)\n"
     ]
    },
    {
     "data": {
      "text/plain": [
       "{'acknowledged': True, 'shards_acknowledged': True, 'index': 'ap89_data3'}"
      ]
     },
     "execution_count": 46,
     "metadata": {},
     "output_type": "execute_result"
    }
   ],
   "source": [
    "es.indices.create(index=index_name, body=configurations)"
   ]
  },
  {
   "cell_type": "code",
   "execution_count": 47,
   "id": "41574d4d",
   "metadata": {},
   "outputs": [],
   "source": [
    "def add_data(_id, text):\n",
    "    es.index(index=index_name, document={'content': text}, id = _id)"
   ]
  },
  {
   "cell_type": "code",
   "execution_count": 48,
   "id": "2d174e9d",
   "metadata": {},
   "outputs": [
    {
     "name": "stdout",
     "output_type": "stream",
     "text": [
      "All documents have been added to the index\n"
     ]
    }
   ],
   "source": [
    "for key in processed_text_map:\n",
    "    add_data(key, processed_text_map[key])\n",
    "    \n",
    "print(\"All documents have been added to the index\")"
   ]
  },
  {
   "cell_type": "code",
   "execution_count": null,
   "id": "6c54d2d6",
   "metadata": {},
   "outputs": [],
   "source": []
  },
  {
   "cell_type": "code",
   "execution_count": null,
   "id": "6a6567e2",
   "metadata": {},
   "outputs": [],
   "source": []
  }
 ],
 "metadata": {
  "kernelspec": {
   "display_name": "Python 3 (ipykernel)",
   "language": "python",
   "name": "python3"
  },
  "language_info": {
   "codemirror_mode": {
    "name": "ipython",
    "version": 3
   },
   "file_extension": ".py",
   "mimetype": "text/x-python",
   "name": "python",
   "nbconvert_exporter": "python",
   "pygments_lexer": "ipython3",
   "version": "3.11.5"
  }
 },
 "nbformat": 4,
 "nbformat_minor": 5
}
